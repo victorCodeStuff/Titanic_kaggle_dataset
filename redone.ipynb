{
 "cells": [
  {
   "cell_type": "code",
   "execution_count": 706,
   "id": "d1b63e4f-885e-46fd-9d35-78b8301fd08e",
   "metadata": {},
   "outputs": [],
   "source": [
    "import pandas as pd\n",
    "import numpy as np \n",
    "import matplotlib.pyplot as plt\n",
    "from sklearn.ensemble import RandomForestClassifier \n",
    "from sklearn.model_selection import KFold\n",
    "from sklearn.model_selection import RepeatedKFold\n",
    "from sklearn.linear_model import LinearRegression\n",
    "from sklearn.model_selection import train_test_split\n",
    "from sklearn.neighbors import KNeighborsClassifier as knn\n",
    "from sklearn.impute import SimpleImputer\n",
    "%matplotlib inline \n",
    "from sklearn.svm import SVC, LinearSVC\n",
    "import seaborn as sns\n",
    "from sklearn.metrics import accuracy_score, confusion_matrix"
   ]
  },
  {
   "cell_type": "markdown",
   "id": "61a0d7c7-ce26-4c7a-92f3-300d6dfd692a",
   "metadata": {},
   "source": [
    "## Objective\n",
    "\n",
    "1. Perform thorough data cleaning to handle missing or inconsistent values.\n",
    "2. Identify and analyze potential outliers in the dataset.\n",
    "3. Predict survival rates using the cleaned data.\n"
   ]
  },
  {
   "cell_type": "markdown",
   "id": "01fc3102-6344-444a-b2ed-0900fd99ef3d",
   "metadata": {},
   "source": [
    "## Loading the data \n"
   ]
  },
  {
   "cell_type": "code",
   "execution_count": 707,
   "id": "26563a7b-0602-46a9-bcc9-5bf3e469695a",
   "metadata": {},
   "outputs": [],
   "source": [
    "train = pd.read_csv(\"train.csv\")\n",
    "test = pd.read_csv(\"test.csv\")"
   ]
  },
  {
   "cell_type": "markdown",
   "id": "2b8bfd5b-bd35-4cc7-ac73-e170f9b010a4",
   "metadata": {},
   "source": [
    "we are gonna combine both to facilitate looking and cleaning the data"
   ]
  },
  {
   "cell_type": "code",
   "execution_count": 708,
   "id": "3fa9dbb5-a70d-4ebb-b970-82af6615633f",
   "metadata": {},
   "outputs": [],
   "source": [
    "combine = pd.DataFrame(pd.concat([test.assign(ind=\"test\").copy(), train.assign(ind=\"train\").copy()]))"
   ]
  },
  {
   "cell_type": "markdown",
   "id": "becdc545-41ef-4695-9344-4696ec4ad7bd",
   "metadata": {},
   "source": [
    "Then to separate both of them later we will use:"
   ]
  },
  {
   "cell_type": "code",
   "execution_count": 709,
   "id": "aad3f128-6485-410a-b266-9500c28b3965",
   "metadata": {},
   "outputs": [],
   "source": [
    "## test, train = combine[combine[\"ind\"].eq(\"test\")], combine[combine[\"ind\"].eq(\"train\")]\n",
    "## test = test.drop(columns=[\"ind\"])\n",
    "## train = train.drop(columns=[\"ind\"])"
   ]
  },
  {
   "cell_type": "markdown",
   "id": "cc7db252-2f9d-41d8-8a45-c7392b838815",
   "metadata": {},
   "source": [
    "## Looking at the data\n",
    "What we will do:\n",
    "    \n",
    "    1- Tranforming the categorical variables into numeric variables\n",
    "    2- Looking the correlation with survival\n",
    "\n",
    "We also will look what aspects of the data can change the survival rate?/\n",
    "I have some assumptions and through data vizualization i will try to confirm them:\n",
    "    \n",
    "        - First class survived more.\n",
    "        - Third class survived less.\n",
    "        - Females had more chance of survival.\n",
    "        - Titles can have change the rate of survival.\n",
    "        - Cabin has has no relation with survival rate.\n",
    "    "
   ]
  },
  {
   "cell_type": "code",
   "execution_count": 710,
   "id": "7f5ecb49-6e0c-4699-bc04-74a54bd5b203",
   "metadata": {},
   "outputs": [
    {
     "data": {
      "text/html": [
       "<div>\n",
       "<style scoped>\n",
       "    .dataframe tbody tr th:only-of-type {\n",
       "        vertical-align: middle;\n",
       "    }\n",
       "\n",
       "    .dataframe tbody tr th {\n",
       "        vertical-align: top;\n",
       "    }\n",
       "\n",
       "    .dataframe thead th {\n",
       "        text-align: right;\n",
       "    }\n",
       "</style>\n",
       "<table border=\"1\" class=\"dataframe\">\n",
       "  <thead>\n",
       "    <tr style=\"text-align: right;\">\n",
       "      <th></th>\n",
       "      <th>PassengerId</th>\n",
       "      <th>Pclass</th>\n",
       "      <th>Name</th>\n",
       "      <th>Sex</th>\n",
       "      <th>Age</th>\n",
       "      <th>SibSp</th>\n",
       "      <th>Parch</th>\n",
       "      <th>Ticket</th>\n",
       "      <th>Fare</th>\n",
       "      <th>Cabin</th>\n",
       "      <th>Embarked</th>\n",
       "      <th>ind</th>\n",
       "      <th>Survived</th>\n",
       "    </tr>\n",
       "  </thead>\n",
       "  <tbody>\n",
       "    <tr>\n",
       "      <th>0</th>\n",
       "      <td>892</td>\n",
       "      <td>3</td>\n",
       "      <td>Kelly, Mr. James</td>\n",
       "      <td>male</td>\n",
       "      <td>34.5</td>\n",
       "      <td>0</td>\n",
       "      <td>0</td>\n",
       "      <td>330911</td>\n",
       "      <td>7.8292</td>\n",
       "      <td>NaN</td>\n",
       "      <td>Q</td>\n",
       "      <td>test</td>\n",
       "      <td>NaN</td>\n",
       "    </tr>\n",
       "    <tr>\n",
       "      <th>1</th>\n",
       "      <td>893</td>\n",
       "      <td>3</td>\n",
       "      <td>Wilkes, Mrs. James (Ellen Needs)</td>\n",
       "      <td>female</td>\n",
       "      <td>47.0</td>\n",
       "      <td>1</td>\n",
       "      <td>0</td>\n",
       "      <td>363272</td>\n",
       "      <td>7.0000</td>\n",
       "      <td>NaN</td>\n",
       "      <td>S</td>\n",
       "      <td>test</td>\n",
       "      <td>NaN</td>\n",
       "    </tr>\n",
       "    <tr>\n",
       "      <th>2</th>\n",
       "      <td>894</td>\n",
       "      <td>2</td>\n",
       "      <td>Myles, Mr. Thomas Francis</td>\n",
       "      <td>male</td>\n",
       "      <td>62.0</td>\n",
       "      <td>0</td>\n",
       "      <td>0</td>\n",
       "      <td>240276</td>\n",
       "      <td>9.6875</td>\n",
       "      <td>NaN</td>\n",
       "      <td>Q</td>\n",
       "      <td>test</td>\n",
       "      <td>NaN</td>\n",
       "    </tr>\n",
       "    <tr>\n",
       "      <th>3</th>\n",
       "      <td>895</td>\n",
       "      <td>3</td>\n",
       "      <td>Wirz, Mr. Albert</td>\n",
       "      <td>male</td>\n",
       "      <td>27.0</td>\n",
       "      <td>0</td>\n",
       "      <td>0</td>\n",
       "      <td>315154</td>\n",
       "      <td>8.6625</td>\n",
       "      <td>NaN</td>\n",
       "      <td>S</td>\n",
       "      <td>test</td>\n",
       "      <td>NaN</td>\n",
       "    </tr>\n",
       "    <tr>\n",
       "      <th>4</th>\n",
       "      <td>896</td>\n",
       "      <td>3</td>\n",
       "      <td>Hirvonen, Mrs. Alexander (Helga E Lindqvist)</td>\n",
       "      <td>female</td>\n",
       "      <td>22.0</td>\n",
       "      <td>1</td>\n",
       "      <td>1</td>\n",
       "      <td>3101298</td>\n",
       "      <td>12.2875</td>\n",
       "      <td>NaN</td>\n",
       "      <td>S</td>\n",
       "      <td>test</td>\n",
       "      <td>NaN</td>\n",
       "    </tr>\n",
       "  </tbody>\n",
       "</table>\n",
       "</div>"
      ],
      "text/plain": [
       "   PassengerId  Pclass                                          Name     Sex  \\\n",
       "0          892       3                              Kelly, Mr. James    male   \n",
       "1          893       3              Wilkes, Mrs. James (Ellen Needs)  female   \n",
       "2          894       2                     Myles, Mr. Thomas Francis    male   \n",
       "3          895       3                              Wirz, Mr. Albert    male   \n",
       "4          896       3  Hirvonen, Mrs. Alexander (Helga E Lindqvist)  female   \n",
       "\n",
       "    Age  SibSp  Parch   Ticket     Fare Cabin Embarked   ind  Survived  \n",
       "0  34.5      0      0   330911   7.8292   NaN        Q  test       NaN  \n",
       "1  47.0      1      0   363272   7.0000   NaN        S  test       NaN  \n",
       "2  62.0      0      0   240276   9.6875   NaN        Q  test       NaN  \n",
       "3  27.0      0      0   315154   8.6625   NaN        S  test       NaN  \n",
       "4  22.0      1      1  3101298  12.2875   NaN        S  test       NaN  "
      ]
     },
     "execution_count": 710,
     "metadata": {},
     "output_type": "execute_result"
    }
   ],
   "source": [
    "combine.head()"
   ]
  },
  {
   "cell_type": "markdown",
   "id": "96241cb2-bb75-4cdd-a4af-eaf80491ca11",
   "metadata": {},
   "source": [
    "first I think that the Sex,Names(titles) can be important variables in this analysis so i will change the Sex from categorical to numerical:"
   ]
  },
  {
   "cell_type": "markdown",
   "id": "e956c41d-bb8e-4a4b-90c9-7739cb6d3434",
   "metadata": {},
   "source": [
    "First the easiest Sex:"
   ]
  },
  {
   "cell_type": "code",
   "execution_count": 711,
   "id": "90c4b5e5-c899-4f6e-9740-1608ec10c93d",
   "metadata": {},
   "outputs": [],
   "source": [
    "combine[\"Sex\"] = combine[\"Sex\"].map({'male': 1, 'female': 2})"
   ]
  },
  {
   "cell_type": "code",
   "execution_count": 712,
   "id": "ed9d9a28-492d-4041-87fc-bce01e4833c7",
   "metadata": {},
   "outputs": [
    {
     "data": {
      "text/html": [
       "<div>\n",
       "<style scoped>\n",
       "    .dataframe tbody tr th:only-of-type {\n",
       "        vertical-align: middle;\n",
       "    }\n",
       "\n",
       "    .dataframe tbody tr th {\n",
       "        vertical-align: top;\n",
       "    }\n",
       "\n",
       "    .dataframe thead th {\n",
       "        text-align: right;\n",
       "    }\n",
       "</style>\n",
       "<table border=\"1\" class=\"dataframe\">\n",
       "  <thead>\n",
       "    <tr style=\"text-align: right;\">\n",
       "      <th></th>\n",
       "      <th>PassengerId</th>\n",
       "      <th>Pclass</th>\n",
       "      <th>Name</th>\n",
       "      <th>Sex</th>\n",
       "      <th>Age</th>\n",
       "      <th>SibSp</th>\n",
       "      <th>Parch</th>\n",
       "      <th>Ticket</th>\n",
       "      <th>Fare</th>\n",
       "      <th>Cabin</th>\n",
       "      <th>Embarked</th>\n",
       "      <th>ind</th>\n",
       "      <th>Survived</th>\n",
       "    </tr>\n",
       "  </thead>\n",
       "  <tbody>\n",
       "    <tr>\n",
       "      <th>0</th>\n",
       "      <td>892</td>\n",
       "      <td>3</td>\n",
       "      <td>Kelly, Mr. James</td>\n",
       "      <td>1</td>\n",
       "      <td>34.5</td>\n",
       "      <td>0</td>\n",
       "      <td>0</td>\n",
       "      <td>330911</td>\n",
       "      <td>7.8292</td>\n",
       "      <td>NaN</td>\n",
       "      <td>Q</td>\n",
       "      <td>test</td>\n",
       "      <td>NaN</td>\n",
       "    </tr>\n",
       "    <tr>\n",
       "      <th>1</th>\n",
       "      <td>893</td>\n",
       "      <td>3</td>\n",
       "      <td>Wilkes, Mrs. James (Ellen Needs)</td>\n",
       "      <td>2</td>\n",
       "      <td>47.0</td>\n",
       "      <td>1</td>\n",
       "      <td>0</td>\n",
       "      <td>363272</td>\n",
       "      <td>7.0000</td>\n",
       "      <td>NaN</td>\n",
       "      <td>S</td>\n",
       "      <td>test</td>\n",
       "      <td>NaN</td>\n",
       "    </tr>\n",
       "    <tr>\n",
       "      <th>2</th>\n",
       "      <td>894</td>\n",
       "      <td>2</td>\n",
       "      <td>Myles, Mr. Thomas Francis</td>\n",
       "      <td>1</td>\n",
       "      <td>62.0</td>\n",
       "      <td>0</td>\n",
       "      <td>0</td>\n",
       "      <td>240276</td>\n",
       "      <td>9.6875</td>\n",
       "      <td>NaN</td>\n",
       "      <td>Q</td>\n",
       "      <td>test</td>\n",
       "      <td>NaN</td>\n",
       "    </tr>\n",
       "    <tr>\n",
       "      <th>3</th>\n",
       "      <td>895</td>\n",
       "      <td>3</td>\n",
       "      <td>Wirz, Mr. Albert</td>\n",
       "      <td>1</td>\n",
       "      <td>27.0</td>\n",
       "      <td>0</td>\n",
       "      <td>0</td>\n",
       "      <td>315154</td>\n",
       "      <td>8.6625</td>\n",
       "      <td>NaN</td>\n",
       "      <td>S</td>\n",
       "      <td>test</td>\n",
       "      <td>NaN</td>\n",
       "    </tr>\n",
       "    <tr>\n",
       "      <th>4</th>\n",
       "      <td>896</td>\n",
       "      <td>3</td>\n",
       "      <td>Hirvonen, Mrs. Alexander (Helga E Lindqvist)</td>\n",
       "      <td>2</td>\n",
       "      <td>22.0</td>\n",
       "      <td>1</td>\n",
       "      <td>1</td>\n",
       "      <td>3101298</td>\n",
       "      <td>12.2875</td>\n",
       "      <td>NaN</td>\n",
       "      <td>S</td>\n",
       "      <td>test</td>\n",
       "      <td>NaN</td>\n",
       "    </tr>\n",
       "  </tbody>\n",
       "</table>\n",
       "</div>"
      ],
      "text/plain": [
       "   PassengerId  Pclass                                          Name  Sex  \\\n",
       "0          892       3                              Kelly, Mr. James    1   \n",
       "1          893       3              Wilkes, Mrs. James (Ellen Needs)    2   \n",
       "2          894       2                     Myles, Mr. Thomas Francis    1   \n",
       "3          895       3                              Wirz, Mr. Albert    1   \n",
       "4          896       3  Hirvonen, Mrs. Alexander (Helga E Lindqvist)    2   \n",
       "\n",
       "    Age  SibSp  Parch   Ticket     Fare Cabin Embarked   ind  Survived  \n",
       "0  34.5      0      0   330911   7.8292   NaN        Q  test       NaN  \n",
       "1  47.0      1      0   363272   7.0000   NaN        S  test       NaN  \n",
       "2  62.0      0      0   240276   9.6875   NaN        Q  test       NaN  \n",
       "3  27.0      0      0   315154   8.6625   NaN        S  test       NaN  \n",
       "4  22.0      1      1  3101298  12.2875   NaN        S  test       NaN  "
      ]
     },
     "execution_count": 712,
     "metadata": {},
     "output_type": "execute_result"
    }
   ],
   "source": [
    "combine.head()"
   ]
  },
  {
   "cell_type": "markdown",
   "id": "7add0bc3-0ad5-4097-ab40-5568ecc0224b",
   "metadata": {},
   "source": [
    "Second the titles:"
   ]
  },
  {
   "cell_type": "code",
   "execution_count": 713,
   "id": "0dcdc22a-c1c3-47c3-a4c4-3974b92cf812",
   "metadata": {},
   "outputs": [],
   "source": [
    "for row in combine.Name:\n",
    "    combine['Title'] = combine['Name'].str.extract(r\"([A-Za-z]+)\\.\", expand=False)"
   ]
  },
  {
   "cell_type": "markdown",
   "id": "98cefb31-71a2-4672-a4d6-4895b7ed42d9",
   "metadata": {},
   "source": [
    "Now we just need to map the titles:"
   ]
  },
  {
   "cell_type": "code",
   "execution_count": 714,
   "id": "bcc9b7ca-0eec-4f79-b5b7-a7f6897ce69a",
   "metadata": {},
   "outputs": [
    {
     "name": "stdout",
     "output_type": "stream",
     "text": [
      "['Mr' 'Mrs' 'Miss' 'Master' 'Ms' 'Col' 'Rev' 'Dr' 'Dona' 'Don' 'Mme'\n",
      " 'Major' 'Lady' 'Sir' 'Mlle' 'Capt' 'Countess' 'Jonkheer']\n"
     ]
    }
   ],
   "source": [
    "print(combine.Title.unique())"
   ]
  },
  {
   "cell_type": "markdown",
   "id": "933b0101-2d92-40ae-8ef2-dc19711c206f",
   "metadata": {},
   "source": [
    "### So far we will divide them in 3 categories:\n",
    "    \n",
    "\n",
    "    - 1. HIGHER SURVIVAL RATE(1)\n",
    "        - Like: Countess, Dona, Mrs, Mlle and Mme\n",
    "        \n",
    "    - 2. CAN SURVIVE (2)\n",
    "        - Like: \n",
    "    - 3. HAS A SLIGHTLY CHANCE (3)"
   ]
  },
  {
   "cell_type": "code",
   "execution_count": 715,
   "id": "2672eb8a-2839-45d1-93ce-dfe9fd02b4dc",
   "metadata": {},
   "outputs": [
    {
     "name": "stderr",
     "output_type": "stream",
     "text": [
      "/tmp/ipykernel_3577/1961136523.py:4: FutureWarning: Downcasting behavior in `replace` is deprecated and will be removed in a future version. To retain the old behavior, explicitly call `result.infer_objects(copy=False)`. To opt-in to the future behavior, set `pd.set_option('future.no_silent_downcasting', True)`\n",
      "  combine['Title'] = combine['Title'].replace(['Major','Capt','Col'], 3)\n"
     ]
    }
   ],
   "source": [
    "for row in combine.Name:\n",
    "    combine['Title'] = combine['Title'].replace(['Countess', 'Dona', 'Mrs','Mme','Mlle','Ms','Lady','Master','Miss'], 1)\n",
    "    combine['Title'] = combine['Title'].replace(['Don','Sir','Dr','Rev','Mr','Jonkheer'], 2)\n",
    "    combine['Title'] = combine['Title'].replace(['Major','Capt','Col'], 3)"
   ]
  },
  {
   "cell_type": "code",
   "execution_count": 716,
   "id": "4dd0d299-037f-4a9d-b14b-5d6378fa51cf",
   "metadata": {},
   "outputs": [
    {
     "data": {
      "text/html": [
       "<div>\n",
       "<style scoped>\n",
       "    .dataframe tbody tr th:only-of-type {\n",
       "        vertical-align: middle;\n",
       "    }\n",
       "\n",
       "    .dataframe tbody tr th {\n",
       "        vertical-align: top;\n",
       "    }\n",
       "\n",
       "    .dataframe thead th {\n",
       "        text-align: right;\n",
       "    }\n",
       "</style>\n",
       "<table border=\"1\" class=\"dataframe\">\n",
       "  <thead>\n",
       "    <tr style=\"text-align: right;\">\n",
       "      <th></th>\n",
       "      <th>PassengerId</th>\n",
       "      <th>Pclass</th>\n",
       "      <th>Name</th>\n",
       "      <th>Sex</th>\n",
       "      <th>Age</th>\n",
       "      <th>SibSp</th>\n",
       "      <th>Parch</th>\n",
       "      <th>Ticket</th>\n",
       "      <th>Fare</th>\n",
       "      <th>Cabin</th>\n",
       "      <th>Embarked</th>\n",
       "      <th>ind</th>\n",
       "      <th>Survived</th>\n",
       "      <th>Title</th>\n",
       "    </tr>\n",
       "  </thead>\n",
       "  <tbody>\n",
       "    <tr>\n",
       "      <th>0</th>\n",
       "      <td>892</td>\n",
       "      <td>3</td>\n",
       "      <td>Kelly, Mr. James</td>\n",
       "      <td>1</td>\n",
       "      <td>34.5</td>\n",
       "      <td>0</td>\n",
       "      <td>0</td>\n",
       "      <td>330911</td>\n",
       "      <td>7.8292</td>\n",
       "      <td>NaN</td>\n",
       "      <td>Q</td>\n",
       "      <td>test</td>\n",
       "      <td>NaN</td>\n",
       "      <td>2</td>\n",
       "    </tr>\n",
       "    <tr>\n",
       "      <th>1</th>\n",
       "      <td>893</td>\n",
       "      <td>3</td>\n",
       "      <td>Wilkes, Mrs. James (Ellen Needs)</td>\n",
       "      <td>2</td>\n",
       "      <td>47.0</td>\n",
       "      <td>1</td>\n",
       "      <td>0</td>\n",
       "      <td>363272</td>\n",
       "      <td>7.0000</td>\n",
       "      <td>NaN</td>\n",
       "      <td>S</td>\n",
       "      <td>test</td>\n",
       "      <td>NaN</td>\n",
       "      <td>1</td>\n",
       "    </tr>\n",
       "    <tr>\n",
       "      <th>2</th>\n",
       "      <td>894</td>\n",
       "      <td>2</td>\n",
       "      <td>Myles, Mr. Thomas Francis</td>\n",
       "      <td>1</td>\n",
       "      <td>62.0</td>\n",
       "      <td>0</td>\n",
       "      <td>0</td>\n",
       "      <td>240276</td>\n",
       "      <td>9.6875</td>\n",
       "      <td>NaN</td>\n",
       "      <td>Q</td>\n",
       "      <td>test</td>\n",
       "      <td>NaN</td>\n",
       "      <td>2</td>\n",
       "    </tr>\n",
       "    <tr>\n",
       "      <th>3</th>\n",
       "      <td>895</td>\n",
       "      <td>3</td>\n",
       "      <td>Wirz, Mr. Albert</td>\n",
       "      <td>1</td>\n",
       "      <td>27.0</td>\n",
       "      <td>0</td>\n",
       "      <td>0</td>\n",
       "      <td>315154</td>\n",
       "      <td>8.6625</td>\n",
       "      <td>NaN</td>\n",
       "      <td>S</td>\n",
       "      <td>test</td>\n",
       "      <td>NaN</td>\n",
       "      <td>2</td>\n",
       "    </tr>\n",
       "    <tr>\n",
       "      <th>4</th>\n",
       "      <td>896</td>\n",
       "      <td>3</td>\n",
       "      <td>Hirvonen, Mrs. Alexander (Helga E Lindqvist)</td>\n",
       "      <td>2</td>\n",
       "      <td>22.0</td>\n",
       "      <td>1</td>\n",
       "      <td>1</td>\n",
       "      <td>3101298</td>\n",
       "      <td>12.2875</td>\n",
       "      <td>NaN</td>\n",
       "      <td>S</td>\n",
       "      <td>test</td>\n",
       "      <td>NaN</td>\n",
       "      <td>1</td>\n",
       "    </tr>\n",
       "  </tbody>\n",
       "</table>\n",
       "</div>"
      ],
      "text/plain": [
       "   PassengerId  Pclass                                          Name  Sex  \\\n",
       "0          892       3                              Kelly, Mr. James    1   \n",
       "1          893       3              Wilkes, Mrs. James (Ellen Needs)    2   \n",
       "2          894       2                     Myles, Mr. Thomas Francis    1   \n",
       "3          895       3                              Wirz, Mr. Albert    1   \n",
       "4          896       3  Hirvonen, Mrs. Alexander (Helga E Lindqvist)    2   \n",
       "\n",
       "    Age  SibSp  Parch   Ticket     Fare Cabin Embarked   ind  Survived  Title  \n",
       "0  34.5      0      0   330911   7.8292   NaN        Q  test       NaN      2  \n",
       "1  47.0      1      0   363272   7.0000   NaN        S  test       NaN      1  \n",
       "2  62.0      0      0   240276   9.6875   NaN        Q  test       NaN      2  \n",
       "3  27.0      0      0   315154   8.6625   NaN        S  test       NaN      2  \n",
       "4  22.0      1      1  3101298  12.2875   NaN        S  test       NaN      1  "
      ]
     },
     "execution_count": 716,
     "metadata": {},
     "output_type": "execute_result"
    }
   ],
   "source": [
    "combine.head()"
   ]
  },
  {
   "cell_type": "code",
   "execution_count": 717,
   "id": "9ca58d26-9333-4612-bc13-7a07261c23f5",
   "metadata": {},
   "outputs": [
    {
     "data": {
      "text/plain": [
       "Index(['PassengerId', 'Pclass', 'Sex', 'Age', 'SibSp', 'Parch', 'Fare',\n",
       "       'Survived', 'Title'],\n",
       "      dtype='object')"
      ]
     },
     "execution_count": 717,
     "metadata": {},
     "output_type": "execute_result"
    }
   ],
   "source": [
    "columns_analysis = combine.select_dtypes(include=[\"number\"]).columns\n",
    "columns_analysis"
   ]
  },
  {
   "cell_type": "code",
   "execution_count": 718,
   "id": "efb64656-fe96-4f3f-939c-6c2a04f33b38",
   "metadata": {},
   "outputs": [
    {
     "name": "stdout",
     "output_type": "stream",
     "text": [
      "PassengerId   -0.005007\n",
      "Pclass        -0.338481\n",
      "Sex            0.543351\n",
      "Age           -0.077221\n",
      "SibSp         -0.035322\n",
      "Parch          0.081629\n",
      "Fare           0.257307\n",
      "Survived       1.000000\n",
      "Title         -0.552048\n",
      "Name: Survived, dtype: float64\n"
     ]
    }
   ],
   "source": [
    "combine_corr = pd.DataFrame(combine[columns_analysis].corr())\n",
    "sort_corr = combine_corr.Survived\n",
    "print(sort_corr)"
   ]
  },
  {
   "cell_type": "markdown",
   "id": "f3b2d30c-c584-4eaf-94c9-7d05fc4a407c",
   "metadata": {},
   "source": [
    "Let's put into a HEATMAP TO SEE BETTER:\n"
   ]
  },
  {
   "cell_type": "code",
   "execution_count": 719,
   "id": "d41af212-127c-4e36-b7d6-bacc05d55341",
   "metadata": {},
   "outputs": [
    {
     "data": {
      "text/plain": [
       "<Figure size 1000x800 with 0 Axes>"
      ]
     },
     "execution_count": 719,
     "metadata": {},
     "output_type": "execute_result"
    },
    {
     "data": {
      "text/plain": [
       "<Figure size 1000x800 with 0 Axes>"
      ]
     },
     "metadata": {},
     "output_type": "display_data"
    }
   ],
   "source": [
    "plt.figure(figsize=(10,8))"
   ]
  },
  {
   "cell_type": "code",
   "execution_count": 720,
   "id": "27f643b9-ecd3-4577-a08f-cf0d1d17fb23",
   "metadata": {},
   "outputs": [
    {
     "data": {
      "image/png": "[encoded data removed]",
      "text/plain": [
       "<Figure size 640x480 with 2 Axes>"
      ]
     },
     "metadata": {},
     "output_type": "display_data"
    }
   ],
   "source": [
    "sns.heatmap(combine_corr,annot=True, fmt='.2f', cmap='coolwarm', cbar=True)\n",
    "plt.show()"
   ]
  },
  {
   "cell_type": "markdown",
   "id": "58eeea9b-bd8a-499f-b374-138ca5a91f8f",
   "metadata": {},
   "source": [
    "MAJOR CORRELATIONS WITH **SURVIVED**:\n",
    "\n",
    "    - Title with 55%\n",
    "    - Sex with 54%\n",
    "    - Pclass with 34%.\n",
    "    - Fare with 26%\n",
    "    - Age with 8%"
   ]
  },
  {
   "cell_type": "markdown",
   "id": "b783b656-5557-40cf-a2fc-08e4777bf664",
   "metadata": {},
   "source": [
    "Now you understand why we modefied those columns to be numerical intead of categorical?\n",
    "    \n",
    "    We can understand it better!!"
   ]
  },
  {
   "cell_type": "markdown",
   "id": "ae24083f-5870-45ff-83bf-7fafc6e2dc49",
   "metadata": {},
   "source": [
    "# Data Cleaning\n",
    "     - Remove null values\n",
    "     - Drop irrelevant columns"
   ]
  },
  {
   "cell_type": "code",
   "execution_count": 721,
   "id": "6b3b124c-6761-4bc6-900a-3f10b09ae484",
   "metadata": {},
   "outputs": [
    {
     "data": {
      "text/html": [
       "<div>\n",
       "<style scoped>\n",
       "    .dataframe tbody tr th:only-of-type {\n",
       "        vertical-align: middle;\n",
       "    }\n",
       "\n",
       "    .dataframe tbody tr th {\n",
       "        vertical-align: top;\n",
       "    }\n",
       "\n",
       "    .dataframe thead th {\n",
       "        text-align: right;\n",
       "    }\n",
       "</style>\n",
       "<table border=\"1\" class=\"dataframe\">\n",
       "  <thead>\n",
       "    <tr style=\"text-align: right;\">\n",
       "      <th></th>\n",
       "      <th>PassengerId</th>\n",
       "      <th>Pclass</th>\n",
       "      <th>Name</th>\n",
       "      <th>Sex</th>\n",
       "      <th>Age</th>\n",
       "      <th>SibSp</th>\n",
       "      <th>Parch</th>\n",
       "      <th>Ticket</th>\n",
       "      <th>Fare</th>\n",
       "      <th>Cabin</th>\n",
       "      <th>Embarked</th>\n",
       "      <th>ind</th>\n",
       "      <th>Survived</th>\n",
       "      <th>Title</th>\n",
       "    </tr>\n",
       "  </thead>\n",
       "  <tbody>\n",
       "    <tr>\n",
       "      <th>0</th>\n",
       "      <td>892</td>\n",
       "      <td>3</td>\n",
       "      <td>Kelly, Mr. James</td>\n",
       "      <td>1</td>\n",
       "      <td>34.5</td>\n",
       "      <td>0</td>\n",
       "      <td>0</td>\n",
       "      <td>330911</td>\n",
       "      <td>7.8292</td>\n",
       "      <td>NaN</td>\n",
       "      <td>Q</td>\n",
       "      <td>test</td>\n",
       "      <td>NaN</td>\n",
       "      <td>2</td>\n",
       "    </tr>\n",
       "    <tr>\n",
       "      <th>1</th>\n",
       "      <td>893</td>\n",
       "      <td>3</td>\n",
       "      <td>Wilkes, Mrs. James (Ellen Needs)</td>\n",
       "      <td>2</td>\n",
       "      <td>47.0</td>\n",
       "      <td>1</td>\n",
       "      <td>0</td>\n",
       "      <td>363272</td>\n",
       "      <td>7.0000</td>\n",
       "      <td>NaN</td>\n",
       "      <td>S</td>\n",
       "      <td>test</td>\n",
       "      <td>NaN</td>\n",
       "      <td>1</td>\n",
       "    </tr>\n",
       "    <tr>\n",
       "      <th>2</th>\n",
       "      <td>894</td>\n",
       "      <td>2</td>\n",
       "      <td>Myles, Mr. Thomas Francis</td>\n",
       "      <td>1</td>\n",
       "      <td>62.0</td>\n",
       "      <td>0</td>\n",
       "      <td>0</td>\n",
       "      <td>240276</td>\n",
       "      <td>9.6875</td>\n",
       "      <td>NaN</td>\n",
       "      <td>Q</td>\n",
       "      <td>test</td>\n",
       "      <td>NaN</td>\n",
       "      <td>2</td>\n",
       "    </tr>\n",
       "    <tr>\n",
       "      <th>3</th>\n",
       "      <td>895</td>\n",
       "      <td>3</td>\n",
       "      <td>Wirz, Mr. Albert</td>\n",
       "      <td>1</td>\n",
       "      <td>27.0</td>\n",
       "      <td>0</td>\n",
       "      <td>0</td>\n",
       "      <td>315154</td>\n",
       "      <td>8.6625</td>\n",
       "      <td>NaN</td>\n",
       "      <td>S</td>\n",
       "      <td>test</td>\n",
       "      <td>NaN</td>\n",
       "      <td>2</td>\n",
       "    </tr>\n",
       "    <tr>\n",
       "      <th>4</th>\n",
       "      <td>896</td>\n",
       "      <td>3</td>\n",
       "      <td>Hirvonen, Mrs. Alexander (Helga E Lindqvist)</td>\n",
       "      <td>2</td>\n",
       "      <td>22.0</td>\n",
       "      <td>1</td>\n",
       "      <td>1</td>\n",
       "      <td>3101298</td>\n",
       "      <td>12.2875</td>\n",
       "      <td>NaN</td>\n",
       "      <td>S</td>\n",
       "      <td>test</td>\n",
       "      <td>NaN</td>\n",
       "      <td>1</td>\n",
       "    </tr>\n",
       "  </tbody>\n",
       "</table>\n",
       "</div>"
      ],
      "text/plain": [
       "   PassengerId  Pclass                                          Name  Sex  \\\n",
       "0          892       3                              Kelly, Mr. James    1   \n",
       "1          893       3              Wilkes, Mrs. James (Ellen Needs)    2   \n",
       "2          894       2                     Myles, Mr. Thomas Francis    1   \n",
       "3          895       3                              Wirz, Mr. Albert    1   \n",
       "4          896       3  Hirvonen, Mrs. Alexander (Helga E Lindqvist)    2   \n",
       "\n",
       "    Age  SibSp  Parch   Ticket     Fare Cabin Embarked   ind  Survived  Title  \n",
       "0  34.5      0      0   330911   7.8292   NaN        Q  test       NaN      2  \n",
       "1  47.0      1      0   363272   7.0000   NaN        S  test       NaN      1  \n",
       "2  62.0      0      0   240276   9.6875   NaN        Q  test       NaN      2  \n",
       "3  27.0      0      0   315154   8.6625   NaN        S  test       NaN      2  \n",
       "4  22.0      1      1  3101298  12.2875   NaN        S  test       NaN      1  "
      ]
     },
     "execution_count": 721,
     "metadata": {},
     "output_type": "execute_result"
    }
   ],
   "source": [
    "combine.head()"
   ]
  },
  {
   "cell_type": "markdown",
   "id": "a5b2118f-5deb-43cf-bcf0-20fc341220f9",
   "metadata": {},
   "source": [
    "To let this better for our model we will change the categorical variables to numerical, but first we will drop some columns like:\n",
    "\n",
    "    - Ticket\n",
    "    - Cabin \n",
    "    - Embarked\n",
    "\n",
    "Those two won't affect our result."
   ]
  },
  {
   "cell_type": "code",
   "execution_count": 722,
   "id": "d19fd880-9657-420a-a8ae-515a9fe8396b",
   "metadata": {},
   "outputs": [
    {
     "data": {
      "text/html": [
       "<div>\n",
       "<style scoped>\n",
       "    .dataframe tbody tr th:only-of-type {\n",
       "        vertical-align: middle;\n",
       "    }\n",
       "\n",
       "    .dataframe tbody tr th {\n",
       "        vertical-align: top;\n",
       "    }\n",
       "\n",
       "    .dataframe thead th {\n",
       "        text-align: right;\n",
       "    }\n",
       "</style>\n",
       "<table border=\"1\" class=\"dataframe\">\n",
       "  <thead>\n",
       "    <tr style=\"text-align: right;\">\n",
       "      <th></th>\n",
       "      <th>PassengerId</th>\n",
       "      <th>Pclass</th>\n",
       "      <th>Name</th>\n",
       "      <th>Sex</th>\n",
       "      <th>Age</th>\n",
       "      <th>SibSp</th>\n",
       "      <th>Parch</th>\n",
       "      <th>Fare</th>\n",
       "      <th>ind</th>\n",
       "      <th>Survived</th>\n",
       "      <th>Title</th>\n",
       "    </tr>\n",
       "  </thead>\n",
       "  <tbody>\n",
       "    <tr>\n",
       "      <th>0</th>\n",
       "      <td>892</td>\n",
       "      <td>3</td>\n",
       "      <td>Kelly, Mr. James</td>\n",
       "      <td>1</td>\n",
       "      <td>34.5</td>\n",
       "      <td>0</td>\n",
       "      <td>0</td>\n",
       "      <td>7.8292</td>\n",
       "      <td>test</td>\n",
       "      <td>NaN</td>\n",
       "      <td>2</td>\n",
       "    </tr>\n",
       "    <tr>\n",
       "      <th>1</th>\n",
       "      <td>893</td>\n",
       "      <td>3</td>\n",
       "      <td>Wilkes, Mrs. James (Ellen Needs)</td>\n",
       "      <td>2</td>\n",
       "      <td>47.0</td>\n",
       "      <td>1</td>\n",
       "      <td>0</td>\n",
       "      <td>7.0000</td>\n",
       "      <td>test</td>\n",
       "      <td>NaN</td>\n",
       "      <td>1</td>\n",
       "    </tr>\n",
       "    <tr>\n",
       "      <th>2</th>\n",
       "      <td>894</td>\n",
       "      <td>2</td>\n",
       "      <td>Myles, Mr. Thomas Francis</td>\n",
       "      <td>1</td>\n",
       "      <td>62.0</td>\n",
       "      <td>0</td>\n",
       "      <td>0</td>\n",
       "      <td>9.6875</td>\n",
       "      <td>test</td>\n",
       "      <td>NaN</td>\n",
       "      <td>2</td>\n",
       "    </tr>\n",
       "    <tr>\n",
       "      <th>3</th>\n",
       "      <td>895</td>\n",
       "      <td>3</td>\n",
       "      <td>Wirz, Mr. Albert</td>\n",
       "      <td>1</td>\n",
       "      <td>27.0</td>\n",
       "      <td>0</td>\n",
       "      <td>0</td>\n",
       "      <td>8.6625</td>\n",
       "      <td>test</td>\n",
       "      <td>NaN</td>\n",
       "      <td>2</td>\n",
       "    </tr>\n",
       "    <tr>\n",
       "      <th>4</th>\n",
       "      <td>896</td>\n",
       "      <td>3</td>\n",
       "      <td>Hirvonen, Mrs. Alexander (Helga E Lindqvist)</td>\n",
       "      <td>2</td>\n",
       "      <td>22.0</td>\n",
       "      <td>1</td>\n",
       "      <td>1</td>\n",
       "      <td>12.2875</td>\n",
       "      <td>test</td>\n",
       "      <td>NaN</td>\n",
       "      <td>1</td>\n",
       "    </tr>\n",
       "  </tbody>\n",
       "</table>\n",
       "</div>"
      ],
      "text/plain": [
       "   PassengerId  Pclass                                          Name  Sex  \\\n",
       "0          892       3                              Kelly, Mr. James    1   \n",
       "1          893       3              Wilkes, Mrs. James (Ellen Needs)    2   \n",
       "2          894       2                     Myles, Mr. Thomas Francis    1   \n",
       "3          895       3                              Wirz, Mr. Albert    1   \n",
       "4          896       3  Hirvonen, Mrs. Alexander (Helga E Lindqvist)    2   \n",
       "\n",
       "    Age  SibSp  Parch     Fare   ind  Survived  Title  \n",
       "0  34.5      0      0   7.8292  test       NaN      2  \n",
       "1  47.0      1      0   7.0000  test       NaN      1  \n",
       "2  62.0      0      0   9.6875  test       NaN      2  \n",
       "3  27.0      0      0   8.6625  test       NaN      2  \n",
       "4  22.0      1      1  12.2875  test       NaN      1  "
      ]
     },
     "execution_count": 722,
     "metadata": {},
     "output_type": "execute_result"
    }
   ],
   "source": [
    "combine.drop(columns=[\"Cabin\",\"Embarked\",\"Ticket\"], inplace=True)\n",
    "combine.head()"
   ]
  },
  {
   "cell_type": "markdown",
   "id": "014ee26a-e37a-4605-bbd6-fe66e551aa55",
   "metadata": {},
   "source": [
    "**Age** is interesting to do so we will maintain even havin a low correlation with **Survived**"
   ]
  },
  {
   "cell_type": "code",
   "execution_count": 723,
   "id": "6ef27028-7ca1-4d97-82bc-8b4ccc8eefe2",
   "metadata": {},
   "outputs": [
    {
     "data": {
      "text/plain": [
       "PassengerId      0\n",
       "Pclass           0\n",
       "Name             0\n",
       "Sex              0\n",
       "Age            263\n",
       "SibSp            0\n",
       "Parch            0\n",
       "Fare             1\n",
       "ind              0\n",
       "Survived       418\n",
       "Title            0\n",
       "dtype: int64"
      ]
     },
     "execution_count": 723,
     "metadata": {},
     "output_type": "execute_result"
    }
   ],
   "source": [
    "combine.isnull().sum()"
   ]
  },
  {
   "cell_type": "markdown",
   "id": "983b47fa-babf-4efd-a596-9c3caaa36b7f",
   "metadata": {},
   "source": [
    "we have no more age with null values, so now we just need to do the predictions about the age.\n",
    "But first we will need to separate both train and test sets:"
   ]
  },
  {
   "cell_type": "code",
   "execution_count": 724,
   "id": "825f6688-4689-475e-b0b7-37f0cd94d077",
   "metadata": {},
   "outputs": [],
   "source": [
    "#test, train = combine[combine[\"ind\"].eq(\"test\")], combine[combine[\"ind\"].eq(\"train\")]\n",
    "#test = test.drop(columns=[\"ind\"])\n",
    "#train = train.drop(columns=[\"ind\"])"
   ]
  },
  {
   "cell_type": "code",
   "execution_count": 725,
   "id": "d51d1a13-c5f4-49e6-9c42-2918416ef271",
   "metadata": {},
   "outputs": [
    {
     "data": {
      "text/plain": [
       "(891, 12)"
      ]
     },
     "execution_count": 725,
     "metadata": {},
     "output_type": "execute_result"
    }
   ],
   "source": [
    "train.shape"
   ]
  },
  {
   "cell_type": "code",
   "execution_count": null,
   "id": "98d048ba-eeff-4dc4-94b1-3cdb8ca87b36",
   "metadata": {},
   "outputs": [],
   "source": []
  },
  {
   "cell_type": "code",
   "execution_count": 726,
   "id": "84d4540c-1235-497a-9280-fc26d18019ee",
   "metadata": {},
   "outputs": [
    {
     "data": {
      "text/plain": [
       "(418, 11)"
      ]
     },
     "execution_count": 726,
     "metadata": {},
     "output_type": "execute_result"
    }
   ],
   "source": [
    "test.shape"
   ]
  },
  {
   "cell_type": "markdown",
   "id": "6ce8c143-526b-4309-b45c-9aa57ae57afe",
   "metadata": {},
   "source": [
    "We will use the columns Pclass, Parch, Fare and title:"
   ]
  },
  {
   "cell_type": "code",
   "execution_count": 727,
   "id": "711fe452-6aca-4797-9ba9-50beb90e7a6f",
   "metadata": {
    "scrolled": true
   },
   "outputs": [
    {
     "name": "stdout",
     "output_type": "stream",
     "text": [
      "[[29.31430008]\n",
      " [30.67168887]\n",
      " [29.31430008]\n",
      " [32.24921207]\n",
      " [30.53523537]\n",
      " [29.31430008]\n",
      " [29.45075358]\n",
      " [29.31430008]\n",
      " [29.38252683]\n",
      " [29.31430008]\n",
      " [30.60346212]\n",
      " [29.31430008]\n",
      " [29.31430008]\n",
      " [29.38252683]\n",
      " [29.31430008]\n",
      " [30.53523537]\n",
      " [29.31430008]\n",
      " [29.31430008]\n",
      " [29.31430008]\n",
      " [29.31430008]\n",
      " [29.31430008]\n",
      " [30.53523537]\n",
      " [29.31430008]\n",
      " [29.31430008]\n",
      " [29.31430008]\n",
      " [30.53523537]\n",
      " [33.96318876]\n",
      " [29.31430008]\n",
      " [29.45075358]\n",
      " [29.45075358]\n",
      " [29.31430008]\n",
      " [30.53523537]\n",
      " [29.31430008]\n",
      " [30.67168887]\n",
      " [29.31430008]\n",
      " [29.31430008]\n",
      " [29.31430008]\n",
      " [32.24921207]\n",
      " [29.45075358]\n",
      " [30.53523537]\n",
      " [30.53523537]\n",
      " [29.45075358]\n",
      " [29.31430008]\n",
      " [30.53523537]\n",
      " [29.31430008]\n",
      " [32.24921207]\n",
      " [30.53523537]\n",
      " [29.31430008]\n",
      " [29.31430008]\n",
      " [32.24921207]\n",
      " [30.53523537]\n",
      " [29.31430008]\n",
      " [29.31430008]\n",
      " [29.31430008]\n",
      " [29.45075358]\n",
      " [29.31430008]\n",
      " [30.53523537]\n",
      " [29.31430008]\n",
      " [30.53523537]\n",
      " [29.31430008]\n",
      " [30.53523537]\n",
      " [29.31430008]\n",
      " [29.31430008]\n",
      " [29.31430008]\n",
      " [29.45075358]\n",
      " [29.31430008]\n",
      " [29.31430008]\n",
      " [29.38252683]\n",
      " [30.53523537]\n",
      " [29.31430008]\n",
      " [29.31430008]\n",
      " [30.53523537]\n",
      " [37.02719519]\n",
      " [31.39222372]\n",
      " [29.31430008]\n",
      " [29.31430008]\n",
      " [38.24813049]\n",
      " [29.31430008]\n",
      " [29.31430008]\n",
      " [30.53523537]\n",
      " [29.38252683]\n",
      " [30.53523537]\n",
      " [30.53523537]\n",
      " [29.31430008]\n",
      " [29.31430008]\n",
      " [31.39222372]\n",
      " [29.31430008]\n",
      " [29.38252683]\n",
      " [30.53523537]\n",
      " [29.31430008]\n",
      " [30.53523537]\n",
      " [29.31430008]\n",
      " [30.67168887]\n",
      " [30.53523537]\n",
      " [29.31430008]\n",
      " [29.31430008]\n",
      " [29.31430008]\n",
      " [29.31430008]\n",
      " [30.53523537]\n",
      " [29.31430008]\n",
      " [29.45075358]\n",
      " [29.45075358]\n",
      " [31.39222372]\n",
      " [29.31430008]\n",
      " [29.31430008]\n",
      " [30.53523537]\n",
      " [29.31430008]\n",
      " [29.31430008]\n",
      " [29.31430008]\n",
      " [29.31430008]\n",
      " [30.53523537]\n",
      " [29.31430008]\n",
      " [29.31430008]\n",
      " [31.39222372]\n",
      " [32.24921207]\n",
      " [29.31430008]\n",
      " [29.31430008]\n",
      " [32.24921207]\n",
      " [31.52867722]\n",
      " [29.45075358]\n",
      " [31.39222372]\n",
      " [32.24921207]\n",
      " [29.38252683]\n",
      " [29.45075358]\n",
      " [30.53523537]\n",
      " [29.31430008]\n",
      " [30.53523537]\n",
      " [31.02827677]\n",
      " [29.31430008]\n",
      " [29.31430008]\n",
      " [31.39222372]\n",
      " [30.53523537]\n",
      " [30.53523537]\n",
      " [30.53523537]\n",
      " [29.31430008]\n",
      " [30.67168887]\n",
      " [29.31430008]\n",
      " [30.53523537]\n",
      " [29.45075358]\n",
      " [30.53523537]\n",
      " [29.38252683]\n",
      " [29.45075358]\n",
      " [29.45075358]\n",
      " [29.45075358]\n",
      " [30.53523537]\n",
      " [29.31430008]\n",
      " [30.60346212]\n",
      " [29.31430008]\n",
      " [30.67168887]\n",
      " [31.02827677]\n",
      " [30.53523537]\n",
      " [30.67168887]\n",
      " [29.31430008]\n",
      " [30.53523537]\n",
      " [29.45075358]\n",
      " [29.31430008]\n",
      " [30.53523537]\n",
      " [30.53523537]\n",
      " [29.31430008]\n",
      " [30.53523537]\n",
      " [30.53523537]\n",
      " [30.67168887]\n",
      " [29.31430008]\n",
      " [29.31430008]\n",
      " [31.39222372]\n",
      " [29.31430008]\n",
      " [29.31430008]\n",
      " [29.38252683]\n",
      " [30.53523537]\n",
      " [29.31430008]\n",
      " [29.31430008]\n",
      " [29.31430008]\n",
      " [30.53523537]\n",
      " [29.31430008]\n",
      " [29.31430008]\n",
      " [29.31430008]\n",
      " [30.67168887]\n",
      " [29.31430008]\n",
      " [29.31430008]\n",
      " [29.38252683]\n",
      " [29.31430008]\n",
      " [29.31430008]\n",
      " [29.45075358]\n",
      " [29.38252683]\n",
      " [31.39222372]\n",
      " [29.31430008]\n",
      " [29.31430008]\n",
      " [29.31430008]\n",
      " [30.53523537]\n",
      " [29.45075358]\n",
      " [29.31430008]\n",
      " [29.31430008]\n",
      " [29.31430008]\n",
      " [29.31430008]\n",
      " [29.45075358]\n",
      " [29.31430008]\n",
      " [32.24921207]\n",
      " [29.31430008]\n",
      " [29.38252683]\n",
      " [29.31430008]\n",
      " [29.45075358]\n",
      " [29.31430008]\n",
      " [29.31430008]\n",
      " [30.53523537]\n",
      " [29.31430008]\n",
      " [30.53523537]\n",
      " [30.53523537]\n",
      " [29.31430008]\n",
      " [29.31430008]\n",
      " [32.24921207]\n",
      " [30.60346212]\n",
      " [29.31430008]\n",
      " [29.31430008]\n",
      " [29.45075358]\n",
      " [29.31430008]\n",
      " [30.53523537]\n",
      " [29.31430008]\n",
      " [29.31430008]\n",
      " [29.45075358]\n",
      " [29.31430008]\n",
      " [29.31430008]\n",
      " [29.31430008]\n",
      " [29.31430008]\n",
      " [30.53523537]\n",
      " [29.31430008]\n",
      " [29.31430008]\n",
      " [30.67168887]\n",
      " [29.38252683]\n",
      " [30.53523537]\n",
      " [29.31430008]\n",
      " [30.53523537]\n",
      " [31.39222372]\n",
      " [29.45075358]\n",
      " [29.31430008]\n",
      " [30.53523537]\n",
      " [29.38252683]\n",
      " [29.31430008]\n",
      " [29.31430008]\n",
      " [29.45075358]\n",
      " [29.31430008]\n",
      " [29.45075358]\n",
      " [29.31430008]\n",
      " [29.31430008]\n",
      " [29.31430008]\n",
      " [29.31430008]\n",
      " [31.02827677]\n",
      " [29.31430008]\n",
      " [32.24921207]\n",
      " [29.45075358]\n",
      " [29.45075358]\n",
      " [29.31430008]\n",
      " [29.31430008]\n",
      " [29.31430008]\n",
      " [29.31430008]\n",
      " [29.31430008]\n",
      " [29.45075358]\n",
      " [31.02827677]\n",
      " [30.67168887]\n",
      " [29.31430008]\n",
      " [32.24921207]\n",
      " [29.31430008]\n",
      " [29.31430008]\n",
      " [32.24921207]]\n"
     ]
    }
   ],
   "source": [
    "column = [\"Age\"]\n",
    "null_values = combine.loc[combine[\"Age\"].isna(),\"Age\"]\n",
    "\n",
    "rows_x = combine[['Pclass', 'Parch', 'Title']].dropna()\n",
    "rows_y = combine[['Age']].dropna()\n",
    "\n",
    "X_train_age_pred = rows_x.head(263)\n",
    "y_train_age_pred = rows_y.head(263)\n",
    "X_test_age_pred = combine.loc[combine['Age'].isna(), ['Pclass', 'Parch', 'Title']] \n",
    "\n",
    "model = LinearRegression().fit(X_train_age_pred ,y_train_age_pred)\n",
    "predict_ages= model.predict(X_test_age_pred)\n",
    "combine.loc[combine['Age'].isna(), 'Age'] = predict_ages\n",
    "\n",
    "print(predict_ages)"
   ]
  },
  {
   "cell_type": "code",
   "execution_count": 728,
   "id": "64930086-c1ec-40c5-bb62-224a027652a0",
   "metadata": {},
   "outputs": [
    {
     "data": {
      "text/plain": [
       "(263, 3)"
      ]
     },
     "execution_count": 728,
     "metadata": {},
     "output_type": "execute_result"
    }
   ],
   "source": [
    "X_test_age_pred.shape\n"
   ]
  },
  {
   "cell_type": "code",
   "execution_count": 729,
   "id": "98e0f40d-bd98-44a8-a27a-aab1a5317c32",
   "metadata": {},
   "outputs": [
    {
     "data": {
      "text/plain": [
       "(263, 3)"
      ]
     },
     "execution_count": 729,
     "metadata": {},
     "output_type": "execute_result"
    }
   ],
   "source": [
    "X_train_age_pred.shape"
   ]
  },
  {
   "cell_type": "code",
   "execution_count": 730,
   "id": "da476d0c-6228-45a2-8db5-a4b7f1624eab",
   "metadata": {},
   "outputs": [
    {
     "data": {
      "text/html": [
       "<div>\n",
       "<style scoped>\n",
       "    .dataframe tbody tr th:only-of-type {\n",
       "        vertical-align: middle;\n",
       "    }\n",
       "\n",
       "    .dataframe tbody tr th {\n",
       "        vertical-align: top;\n",
       "    }\n",
       "\n",
       "    .dataframe thead th {\n",
       "        text-align: right;\n",
       "    }\n",
       "</style>\n",
       "<table border=\"1\" class=\"dataframe\">\n",
       "  <thead>\n",
       "    <tr style=\"text-align: right;\">\n",
       "      <th></th>\n",
       "      <th>Pclass</th>\n",
       "      <th>Parch</th>\n",
       "      <th>Title</th>\n",
       "    </tr>\n",
       "  </thead>\n",
       "  <tbody>\n",
       "    <tr>\n",
       "      <th>10</th>\n",
       "      <td>3</td>\n",
       "      <td>0</td>\n",
       "      <td>2</td>\n",
       "    </tr>\n",
       "    <tr>\n",
       "      <th>22</th>\n",
       "      <td>1</td>\n",
       "      <td>0</td>\n",
       "      <td>1</td>\n",
       "    </tr>\n",
       "    <tr>\n",
       "      <th>29</th>\n",
       "      <td>3</td>\n",
       "      <td>0</td>\n",
       "      <td>2</td>\n",
       "    </tr>\n",
       "    <tr>\n",
       "      <th>33</th>\n",
       "      <td>3</td>\n",
       "      <td>2</td>\n",
       "      <td>1</td>\n",
       "    </tr>\n",
       "    <tr>\n",
       "      <th>36</th>\n",
       "      <td>3</td>\n",
       "      <td>0</td>\n",
       "      <td>1</td>\n",
       "    </tr>\n",
       "  </tbody>\n",
       "</table>\n",
       "</div>"
      ],
      "text/plain": [
       "    Pclass  Parch  Title\n",
       "10       3      0      2\n",
       "22       1      0      1\n",
       "29       3      0      2\n",
       "33       3      2      1\n",
       "36       3      0      1"
      ]
     },
     "execution_count": 730,
     "metadata": {},
     "output_type": "execute_result"
    }
   ],
   "source": [
    "X_test_age_pred.head()"
   ]
  },
  {
   "cell_type": "code",
   "execution_count": 731,
   "id": "d39939c4-151c-4091-819e-f15338a40e7e",
   "metadata": {},
   "outputs": [
    {
     "data": {
      "text/html": [
       "<div>\n",
       "<style scoped>\n",
       "    .dataframe tbody tr th:only-of-type {\n",
       "        vertical-align: middle;\n",
       "    }\n",
       "\n",
       "    .dataframe tbody tr th {\n",
       "        vertical-align: top;\n",
       "    }\n",
       "\n",
       "    .dataframe thead th {\n",
       "        text-align: right;\n",
       "    }\n",
       "</style>\n",
       "<table border=\"1\" class=\"dataframe\">\n",
       "  <thead>\n",
       "    <tr style=\"text-align: right;\">\n",
       "      <th></th>\n",
       "      <th>Pclass</th>\n",
       "      <th>Parch</th>\n",
       "      <th>Title</th>\n",
       "    </tr>\n",
       "  </thead>\n",
       "  <tbody>\n",
       "    <tr>\n",
       "      <th>0</th>\n",
       "      <td>3</td>\n",
       "      <td>0</td>\n",
       "      <td>2</td>\n",
       "    </tr>\n",
       "    <tr>\n",
       "      <th>1</th>\n",
       "      <td>3</td>\n",
       "      <td>0</td>\n",
       "      <td>1</td>\n",
       "    </tr>\n",
       "    <tr>\n",
       "      <th>2</th>\n",
       "      <td>2</td>\n",
       "      <td>0</td>\n",
       "      <td>2</td>\n",
       "    </tr>\n",
       "    <tr>\n",
       "      <th>3</th>\n",
       "      <td>3</td>\n",
       "      <td>0</td>\n",
       "      <td>2</td>\n",
       "    </tr>\n",
       "    <tr>\n",
       "      <th>4</th>\n",
       "      <td>3</td>\n",
       "      <td>1</td>\n",
       "      <td>1</td>\n",
       "    </tr>\n",
       "  </tbody>\n",
       "</table>\n",
       "</div>"
      ],
      "text/plain": [
       "   Pclass  Parch  Title\n",
       "0       3      0      2\n",
       "1       3      0      1\n",
       "2       2      0      2\n",
       "3       3      0      2\n",
       "4       3      1      1"
      ]
     },
     "execution_count": 731,
     "metadata": {},
     "output_type": "execute_result"
    }
   ],
   "source": [
    "X_train_age_pred.head()"
   ]
  },
  {
   "cell_type": "code",
   "execution_count": 732,
   "id": "4339aa49-9276-41dd-8051-71e4895bec45",
   "metadata": {},
   "outputs": [
    {
     "data": {
      "text/plain": [
       "PassengerId      0\n",
       "Pclass           0\n",
       "Name             0\n",
       "Sex              0\n",
       "Age              0\n",
       "SibSp            0\n",
       "Parch            0\n",
       "Fare             1\n",
       "ind              0\n",
       "Survived       418\n",
       "Title            0\n",
       "dtype: int64"
      ]
     },
     "execution_count": 732,
     "metadata": {},
     "output_type": "execute_result"
    }
   ],
   "source": [
    "combine.isnull().sum()"
   ]
  },
  {
   "cell_type": "code",
   "execution_count": 733,
   "id": "624678ed-63fa-4a32-9ee6-6f159e4978e9",
   "metadata": {},
   "outputs": [
    {
     "data": {
      "text/plain": [
       "(1309, 11)"
      ]
     },
     "execution_count": 733,
     "metadata": {},
     "output_type": "execute_result"
    }
   ],
   "source": [
    "combine.shape"
   ]
  },
  {
   "cell_type": "code",
   "execution_count": 734,
   "id": "97ef98bc-49a8-47a7-adcc-8eef54eb5e0a",
   "metadata": {},
   "outputs": [
    {
     "data": {
      "text/html": [
       "<div>\n",
       "<style scoped>\n",
       "    .dataframe tbody tr th:only-of-type {\n",
       "        vertical-align: middle;\n",
       "    }\n",
       "\n",
       "    .dataframe tbody tr th {\n",
       "        vertical-align: top;\n",
       "    }\n",
       "\n",
       "    .dataframe thead th {\n",
       "        text-align: right;\n",
       "    }\n",
       "</style>\n",
       "<table border=\"1\" class=\"dataframe\">\n",
       "  <thead>\n",
       "    <tr style=\"text-align: right;\">\n",
       "      <th></th>\n",
       "      <th>PassengerId</th>\n",
       "      <th>Pclass</th>\n",
       "      <th>Name</th>\n",
       "      <th>Sex</th>\n",
       "      <th>Age</th>\n",
       "      <th>SibSp</th>\n",
       "      <th>Parch</th>\n",
       "      <th>Fare</th>\n",
       "      <th>ind</th>\n",
       "      <th>Survived</th>\n",
       "      <th>Title</th>\n",
       "    </tr>\n",
       "  </thead>\n",
       "  <tbody>\n",
       "    <tr>\n",
       "      <th>0</th>\n",
       "      <td>892</td>\n",
       "      <td>3</td>\n",
       "      <td>Kelly, Mr. James</td>\n",
       "      <td>1</td>\n",
       "      <td>34.5</td>\n",
       "      <td>0</td>\n",
       "      <td>0</td>\n",
       "      <td>7.8292</td>\n",
       "      <td>test</td>\n",
       "      <td>NaN</td>\n",
       "      <td>2</td>\n",
       "    </tr>\n",
       "    <tr>\n",
       "      <th>1</th>\n",
       "      <td>893</td>\n",
       "      <td>3</td>\n",
       "      <td>Wilkes, Mrs. James (Ellen Needs)</td>\n",
       "      <td>2</td>\n",
       "      <td>47.0</td>\n",
       "      <td>1</td>\n",
       "      <td>0</td>\n",
       "      <td>7.0000</td>\n",
       "      <td>test</td>\n",
       "      <td>NaN</td>\n",
       "      <td>1</td>\n",
       "    </tr>\n",
       "    <tr>\n",
       "      <th>2</th>\n",
       "      <td>894</td>\n",
       "      <td>2</td>\n",
       "      <td>Myles, Mr. Thomas Francis</td>\n",
       "      <td>1</td>\n",
       "      <td>62.0</td>\n",
       "      <td>0</td>\n",
       "      <td>0</td>\n",
       "      <td>9.6875</td>\n",
       "      <td>test</td>\n",
       "      <td>NaN</td>\n",
       "      <td>2</td>\n",
       "    </tr>\n",
       "    <tr>\n",
       "      <th>3</th>\n",
       "      <td>895</td>\n",
       "      <td>3</td>\n",
       "      <td>Wirz, Mr. Albert</td>\n",
       "      <td>1</td>\n",
       "      <td>27.0</td>\n",
       "      <td>0</td>\n",
       "      <td>0</td>\n",
       "      <td>8.6625</td>\n",
       "      <td>test</td>\n",
       "      <td>NaN</td>\n",
       "      <td>2</td>\n",
       "    </tr>\n",
       "    <tr>\n",
       "      <th>4</th>\n",
       "      <td>896</td>\n",
       "      <td>3</td>\n",
       "      <td>Hirvonen, Mrs. Alexander (Helga E Lindqvist)</td>\n",
       "      <td>2</td>\n",
       "      <td>22.0</td>\n",
       "      <td>1</td>\n",
       "      <td>1</td>\n",
       "      <td>12.2875</td>\n",
       "      <td>test</td>\n",
       "      <td>NaN</td>\n",
       "      <td>1</td>\n",
       "    </tr>\n",
       "  </tbody>\n",
       "</table>\n",
       "</div>"
      ],
      "text/plain": [
       "   PassengerId  Pclass                                          Name  Sex  \\\n",
       "0          892       3                              Kelly, Mr. James    1   \n",
       "1          893       3              Wilkes, Mrs. James (Ellen Needs)    2   \n",
       "2          894       2                     Myles, Mr. Thomas Francis    1   \n",
       "3          895       3                              Wirz, Mr. Albert    1   \n",
       "4          896       3  Hirvonen, Mrs. Alexander (Helga E Lindqvist)    2   \n",
       "\n",
       "    Age  SibSp  Parch     Fare   ind  Survived  Title  \n",
       "0  34.5      0      0   7.8292  test       NaN      2  \n",
       "1  47.0      1      0   7.0000  test       NaN      1  \n",
       "2  62.0      0      0   9.6875  test       NaN      2  \n",
       "3  27.0      0      0   8.6625  test       NaN      2  \n",
       "4  22.0      1      1  12.2875  test       NaN      1  "
      ]
     },
     "execution_count": 734,
     "metadata": {},
     "output_type": "execute_result"
    }
   ],
   "source": [
    "combine.head()"
   ]
  },
  {
   "cell_type": "code",
   "execution_count": 735,
   "id": "02a90153-7dc1-4c4e-ae90-451b16c14cea",
   "metadata": {},
   "outputs": [],
   "source": [
    "test, train = combine[combine[\"ind\"].eq(\"test\")], combine[combine[\"ind\"].eq(\"train\")]\n",
    "test = test.drop(columns=[\"ind\"])\n",
    "train = train.drop(columns=[\"ind\"])"
   ]
  },
  {
   "cell_type": "code",
   "execution_count": 736,
   "id": "7166e3ff-ca09-445c-b3d3-58bffb2b4dfd",
   "metadata": {},
   "outputs": [
    {
     "data": {
      "text/plain": [
       "PassengerId      0\n",
       "Pclass           0\n",
       "Name             0\n",
       "Sex              0\n",
       "Age              0\n",
       "SibSp            0\n",
       "Parch            0\n",
       "Fare             1\n",
       "Survived       418\n",
       "Title            0\n",
       "dtype: int64"
      ]
     },
     "execution_count": 736,
     "metadata": {},
     "output_type": "execute_result"
    }
   ],
   "source": [
    "test.isnull().sum()"
   ]
  },
  {
   "cell_type": "code",
   "execution_count": 737,
   "id": "592665ae-9e96-4a5c-b3a7-17685f53ade3",
   "metadata": {},
   "outputs": [
    {
     "data": {
      "text/plain": [
       "PassengerId    0\n",
       "Pclass         0\n",
       "Name           0\n",
       "Sex            0\n",
       "Age            0\n",
       "SibSp          0\n",
       "Parch          0\n",
       "Fare           0\n",
       "Survived       0\n",
       "Title          0\n",
       "dtype: int64"
      ]
     },
     "execution_count": 737,
     "metadata": {},
     "output_type": "execute_result"
    }
   ],
   "source": [
    "train.isnull().sum()"
   ]
  },
  {
   "cell_type": "markdown",
   "id": "1ba19b24-ef7b-4ce1-b2bd-d398a11e02a4",
   "metadata": {},
   "source": [
    "Let's if we have some null value"
   ]
  },
  {
   "cell_type": "code",
   "execution_count": 738,
   "id": "3f01b320-f2c9-4dda-a605-b85b894d6a2d",
   "metadata": {},
   "outputs": [
    {
     "data": {
      "text/plain": [
       "PassengerId      0\n",
       "Pclass           0\n",
       "Name             0\n",
       "Sex              0\n",
       "Age              0\n",
       "SibSp            0\n",
       "Parch            0\n",
       "Fare             1\n",
       "ind              0\n",
       "Survived       418\n",
       "Title            0\n",
       "dtype: int64"
      ]
     },
     "execution_count": 738,
     "metadata": {},
     "output_type": "execute_result"
    }
   ],
   "source": [
    "combine.isnull().sum()"
   ]
  },
  {
   "cell_type": "markdown",
   "id": "8bb0c1c1-c06b-45cb-a825-a97db6b7c124",
   "metadata": {},
   "source": [
    "we have just a single Fare value, We can manually insert him.\n"
   ]
  },
  {
   "cell_type": "code",
   "execution_count": 739,
   "id": "0a1d6b16-95aa-4437-b3c6-c7dacd24dd19",
   "metadata": {},
   "outputs": [
    {
     "data": {
      "text/html": [
       "<div>\n",
       "<style scoped>\n",
       "    .dataframe tbody tr th:only-of-type {\n",
       "        vertical-align: middle;\n",
       "    }\n",
       "\n",
       "    .dataframe tbody tr th {\n",
       "        vertical-align: top;\n",
       "    }\n",
       "\n",
       "    .dataframe thead th {\n",
       "        text-align: right;\n",
       "    }\n",
       "</style>\n",
       "<table border=\"1\" class=\"dataframe\">\n",
       "  <thead>\n",
       "    <tr style=\"text-align: right;\">\n",
       "      <th></th>\n",
       "      <th>PassengerId</th>\n",
       "      <th>Pclass</th>\n",
       "      <th>Name</th>\n",
       "      <th>Sex</th>\n",
       "      <th>Age</th>\n",
       "      <th>SibSp</th>\n",
       "      <th>Parch</th>\n",
       "      <th>Fare</th>\n",
       "      <th>ind</th>\n",
       "      <th>Survived</th>\n",
       "      <th>Title</th>\n",
       "    </tr>\n",
       "  </thead>\n",
       "  <tbody>\n",
       "    <tr>\n",
       "      <th>152</th>\n",
       "      <td>1044</td>\n",
       "      <td>3</td>\n",
       "      <td>Storey, Mr. Thomas</td>\n",
       "      <td>1</td>\n",
       "      <td>60.5</td>\n",
       "      <td>0</td>\n",
       "      <td>0</td>\n",
       "      <td>NaN</td>\n",
       "      <td>test</td>\n",
       "      <td>NaN</td>\n",
       "      <td>2</td>\n",
       "    </tr>\n",
       "  </tbody>\n",
       "</table>\n",
       "</div>"
      ],
      "text/plain": [
       "     PassengerId  Pclass                Name  Sex   Age  SibSp  Parch  Fare  \\\n",
       "152         1044       3  Storey, Mr. Thomas    1  60.5      0      0   NaN   \n",
       "\n",
       "      ind  Survived  Title  \n",
       "152  test       NaN      2  "
      ]
     },
     "execution_count": 739,
     "metadata": {},
     "output_type": "execute_result"
    }
   ],
   "source": [
    "combine[combine[\"Fare\"].isnull()]"
   ]
  },
  {
   "cell_type": "markdown",
   "id": "ccbf7e9e-6a1a-487b-854d-006c4475e813",
   "metadata": {},
   "source": [
    "he is the third class so he must had payed less than **69.55** like you can see here:"
   ]
  },
  {
   "cell_type": "code",
   "execution_count": 740,
   "id": "536f5269-083e-4577-9ca1-e5e968ae16f7",
   "metadata": {},
   "outputs": [
    {
     "name": "stdout",
     "output_type": "stream",
     "text": [
      "Pclass\n",
      "1    512.3292\n",
      "2     73.5000\n",
      "3     69.5500\n",
      "Name: Fare, dtype: float64\n"
     ]
    }
   ],
   "source": [
    "grouped = combine.groupby(['Pclass'])['Fare'].max()\n",
    "print(grouped)"
   ]
  },
  {
   "cell_type": "code",
   "execution_count": 756,
   "id": "86dea50b-9e98-4a67-a6d6-be87b9823ed1",
   "metadata": {},
   "outputs": [],
   "source": [
    "test[\"Fare\"] = test[\"Fare\"].fillna(69.55)"
   ]
  },
  {
   "cell_type": "markdown",
   "id": "503a18bc-321f-4a41-a7a2-e21925c7f6d0",
   "metadata": {},
   "source": [
    "Now that we don't have null values we can start modelling our model:"
   ]
  },
  {
   "cell_type": "code",
   "execution_count": 757,
   "id": "e3d94bae-b50d-4acb-a9f5-a33930ddc843",
   "metadata": {},
   "outputs": [
    {
     "data": {
      "text/plain": [
       "PassengerId      0\n",
       "Pclass           0\n",
       "Name             0\n",
       "Sex              0\n",
       "Age              0\n",
       "SibSp            0\n",
       "Parch            0\n",
       "Fare             0\n",
       "Survived       418\n",
       "Title            0\n",
       "dtype: int64"
      ]
     },
     "execution_count": 757,
     "metadata": {},
     "output_type": "execute_result"
    }
   ],
   "source": [
    "test.isnull().sum()"
   ]
  },
  {
   "cell_type": "code",
   "execution_count": 758,
   "id": "5461f187-db79-4379-b574-1fb45c1f0518",
   "metadata": {},
   "outputs": [
    {
     "data": {
      "text/plain": [
       "PassengerId    0\n",
       "Pclass         0\n",
       "Name           0\n",
       "Sex            0\n",
       "Age            0\n",
       "SibSp          0\n",
       "Parch          0\n",
       "Fare           0\n",
       "Survived       0\n",
       "Title          0\n",
       "dtype: int64"
      ]
     },
     "execution_count": 758,
     "metadata": {},
     "output_type": "execute_result"
    }
   ],
   "source": [
    "train.isnull().sum()\n"
   ]
  },
  {
   "cell_type": "code",
   "execution_count": 759,
   "id": "72fed864-0f0e-476a-baac-5b02b6d43f3c",
   "metadata": {},
   "outputs": [
    {
     "data": {
      "text/plain": [
       "(891, 10)"
      ]
     },
     "execution_count": 759,
     "metadata": {},
     "output_type": "execute_result"
    }
   ],
   "source": [
    "train.shape"
   ]
  },
  {
   "cell_type": "code",
   "execution_count": 760,
   "id": "0ad2d42b-73a4-4cf4-aac2-13fc718329a6",
   "metadata": {},
   "outputs": [
    {
     "data": {
      "text/plain": [
       "(418, 10)"
      ]
     },
     "execution_count": 760,
     "metadata": {},
     "output_type": "execute_result"
    }
   ],
   "source": [
    "test.shape"
   ]
  },
  {
   "cell_type": "code",
   "execution_count": 761,
   "id": "e1c64d6a-4df5-4f74-9119-50db1684a058",
   "metadata": {},
   "outputs": [
    {
     "data": {
      "text/plain": [
       "PassengerId    0\n",
       "Pclass         0\n",
       "Name           0\n",
       "Sex            0\n",
       "Age            0\n",
       "SibSp          0\n",
       "Parch          0\n",
       "Fare           0\n",
       "Survived       0\n",
       "Title          0\n",
       "dtype: int64"
      ]
     },
     "execution_count": 761,
     "metadata": {},
     "output_type": "execute_result"
    }
   ],
   "source": [
    "train.isnull().sum()"
   ]
  },
  {
   "cell_type": "code",
   "execution_count": 762,
   "id": "69c440ea-5ed1-4265-9f7c-7366ce5c2c6d",
   "metadata": {},
   "outputs": [
    {
     "name": "stdout",
     "output_type": "stream",
     "text": [
      "   PassengerId  Pclass   Name    Sex    Age  SibSp  Parch   Fare  Survived  \\\n",
      "0        False   False  False  False  False  False  False  False      True   \n",
      "1        False   False  False  False  False  False  False  False      True   \n",
      "2        False   False  False  False  False  False  False  False      True   \n",
      "3        False   False  False  False  False  False  False  False      True   \n",
      "4        False   False  False  False  False  False  False  False      True   \n",
      "\n",
      "   Title  \n",
      "0  False  \n",
      "1  False  \n",
      "2  False  \n",
      "3  False  \n",
      "4  False  \n"
     ]
    }
   ],
   "source": [
    "print(test.isna().head())"
   ]
  },
  {
   "cell_type": "code",
   "execution_count": 763,
   "id": "2c942098-e7be-4005-ac0d-913add1b4ad0",
   "metadata": {},
   "outputs": [
    {
     "data": {
      "text/html": [
       "<div>\n",
       "<style scoped>\n",
       "    .dataframe tbody tr th:only-of-type {\n",
       "        vertical-align: middle;\n",
       "    }\n",
       "\n",
       "    .dataframe tbody tr th {\n",
       "        vertical-align: top;\n",
       "    }\n",
       "\n",
       "    .dataframe thead th {\n",
       "        text-align: right;\n",
       "    }\n",
       "</style>\n",
       "<table border=\"1\" class=\"dataframe\">\n",
       "  <thead>\n",
       "    <tr style=\"text-align: right;\">\n",
       "      <th></th>\n",
       "      <th>PassengerId</th>\n",
       "      <th>Pclass</th>\n",
       "      <th>Name</th>\n",
       "      <th>Sex</th>\n",
       "      <th>Age</th>\n",
       "      <th>SibSp</th>\n",
       "      <th>Parch</th>\n",
       "      <th>Fare</th>\n",
       "      <th>Survived</th>\n",
       "      <th>Title</th>\n",
       "    </tr>\n",
       "  </thead>\n",
       "  <tbody>\n",
       "    <tr>\n",
       "      <th>0</th>\n",
       "      <td>False</td>\n",
       "      <td>False</td>\n",
       "      <td>False</td>\n",
       "      <td>False</td>\n",
       "      <td>False</td>\n",
       "      <td>False</td>\n",
       "      <td>False</td>\n",
       "      <td>False</td>\n",
       "      <td>True</td>\n",
       "      <td>False</td>\n",
       "    </tr>\n",
       "    <tr>\n",
       "      <th>1</th>\n",
       "      <td>False</td>\n",
       "      <td>False</td>\n",
       "      <td>False</td>\n",
       "      <td>False</td>\n",
       "      <td>False</td>\n",
       "      <td>False</td>\n",
       "      <td>False</td>\n",
       "      <td>False</td>\n",
       "      <td>True</td>\n",
       "      <td>False</td>\n",
       "    </tr>\n",
       "    <tr>\n",
       "      <th>2</th>\n",
       "      <td>False</td>\n",
       "      <td>False</td>\n",
       "      <td>False</td>\n",
       "      <td>False</td>\n",
       "      <td>False</td>\n",
       "      <td>False</td>\n",
       "      <td>False</td>\n",
       "      <td>False</td>\n",
       "      <td>True</td>\n",
       "      <td>False</td>\n",
       "    </tr>\n",
       "    <tr>\n",
       "      <th>3</th>\n",
       "      <td>False</td>\n",
       "      <td>False</td>\n",
       "      <td>False</td>\n",
       "      <td>False</td>\n",
       "      <td>False</td>\n",
       "      <td>False</td>\n",
       "      <td>False</td>\n",
       "      <td>False</td>\n",
       "      <td>True</td>\n",
       "      <td>False</td>\n",
       "    </tr>\n",
       "    <tr>\n",
       "      <th>4</th>\n",
       "      <td>False</td>\n",
       "      <td>False</td>\n",
       "      <td>False</td>\n",
       "      <td>False</td>\n",
       "      <td>False</td>\n",
       "      <td>False</td>\n",
       "      <td>False</td>\n",
       "      <td>False</td>\n",
       "      <td>True</td>\n",
       "      <td>False</td>\n",
       "    </tr>\n",
       "    <tr>\n",
       "      <th>...</th>\n",
       "      <td>...</td>\n",
       "      <td>...</td>\n",
       "      <td>...</td>\n",
       "      <td>...</td>\n",
       "      <td>...</td>\n",
       "      <td>...</td>\n",
       "      <td>...</td>\n",
       "      <td>...</td>\n",
       "      <td>...</td>\n",
       "      <td>...</td>\n",
       "    </tr>\n",
       "    <tr>\n",
       "      <th>413</th>\n",
       "      <td>False</td>\n",
       "      <td>False</td>\n",
       "      <td>False</td>\n",
       "      <td>False</td>\n",
       "      <td>False</td>\n",
       "      <td>False</td>\n",
       "      <td>False</td>\n",
       "      <td>False</td>\n",
       "      <td>True</td>\n",
       "      <td>False</td>\n",
       "    </tr>\n",
       "    <tr>\n",
       "      <th>414</th>\n",
       "      <td>False</td>\n",
       "      <td>False</td>\n",
       "      <td>False</td>\n",
       "      <td>False</td>\n",
       "      <td>False</td>\n",
       "      <td>False</td>\n",
       "      <td>False</td>\n",
       "      <td>False</td>\n",
       "      <td>True</td>\n",
       "      <td>False</td>\n",
       "    </tr>\n",
       "    <tr>\n",
       "      <th>415</th>\n",
       "      <td>False</td>\n",
       "      <td>False</td>\n",
       "      <td>False</td>\n",
       "      <td>False</td>\n",
       "      <td>False</td>\n",
       "      <td>False</td>\n",
       "      <td>False</td>\n",
       "      <td>False</td>\n",
       "      <td>True</td>\n",
       "      <td>False</td>\n",
       "    </tr>\n",
       "    <tr>\n",
       "      <th>416</th>\n",
       "      <td>False</td>\n",
       "      <td>False</td>\n",
       "      <td>False</td>\n",
       "      <td>False</td>\n",
       "      <td>False</td>\n",
       "      <td>False</td>\n",
       "      <td>False</td>\n",
       "      <td>False</td>\n",
       "      <td>True</td>\n",
       "      <td>False</td>\n",
       "    </tr>\n",
       "    <tr>\n",
       "      <th>417</th>\n",
       "      <td>False</td>\n",
       "      <td>False</td>\n",
       "      <td>False</td>\n",
       "      <td>False</td>\n",
       "      <td>False</td>\n",
       "      <td>False</td>\n",
       "      <td>False</td>\n",
       "      <td>False</td>\n",
       "      <td>True</td>\n",
       "      <td>False</td>\n",
       "    </tr>\n",
       "  </tbody>\n",
       "</table>\n",
       "<p>418 rows × 10 columns</p>\n",
       "</div>"
      ],
      "text/plain": [
       "     PassengerId  Pclass   Name    Sex    Age  SibSp  Parch   Fare  Survived  \\\n",
       "0          False   False  False  False  False  False  False  False      True   \n",
       "1          False   False  False  False  False  False  False  False      True   \n",
       "2          False   False  False  False  False  False  False  False      True   \n",
       "3          False   False  False  False  False  False  False  False      True   \n",
       "4          False   False  False  False  False  False  False  False      True   \n",
       "..           ...     ...    ...    ...    ...    ...    ...    ...       ...   \n",
       "413        False   False  False  False  False  False  False  False      True   \n",
       "414        False   False  False  False  False  False  False  False      True   \n",
       "415        False   False  False  False  False  False  False  False      True   \n",
       "416        False   False  False  False  False  False  False  False      True   \n",
       "417        False   False  False  False  False  False  False  False      True   \n",
       "\n",
       "     Title  \n",
       "0    False  \n",
       "1    False  \n",
       "2    False  \n",
       "3    False  \n",
       "4    False  \n",
       "..     ...  \n",
       "413  False  \n",
       "414  False  \n",
       "415  False  \n",
       "416  False  \n",
       "417  False  \n",
       "\n",
       "[418 rows x 10 columns]"
      ]
     },
     "execution_count": 763,
     "metadata": {},
     "output_type": "execute_result"
    }
   ],
   "source": [
    "test.isnull()"
   ]
  },
  {
   "cell_type": "code",
   "execution_count": 764,
   "id": "21591033-0fee-4d7e-9966-ab3450d5c89a",
   "metadata": {},
   "outputs": [
    {
     "data": {
      "text/html": [
       "<div>\n",
       "<style scoped>\n",
       "    .dataframe tbody tr th:only-of-type {\n",
       "        vertical-align: middle;\n",
       "    }\n",
       "\n",
       "    .dataframe tbody tr th {\n",
       "        vertical-align: top;\n",
       "    }\n",
       "\n",
       "    .dataframe thead th {\n",
       "        text-align: right;\n",
       "    }\n",
       "</style>\n",
       "<table border=\"1\" class=\"dataframe\">\n",
       "  <thead>\n",
       "    <tr style=\"text-align: right;\">\n",
       "      <th></th>\n",
       "      <th>PassengerId</th>\n",
       "      <th>Pclass</th>\n",
       "      <th>Name</th>\n",
       "      <th>Sex</th>\n",
       "      <th>Age</th>\n",
       "      <th>SibSp</th>\n",
       "      <th>Parch</th>\n",
       "      <th>Fare</th>\n",
       "      <th>ind</th>\n",
       "      <th>Survived</th>\n",
       "      <th>Title</th>\n",
       "    </tr>\n",
       "  </thead>\n",
       "  <tbody>\n",
       "    <tr>\n",
       "      <th>0</th>\n",
       "      <td>892</td>\n",
       "      <td>3</td>\n",
       "      <td>Kelly, Mr. James</td>\n",
       "      <td>1</td>\n",
       "      <td>34.5</td>\n",
       "      <td>0</td>\n",
       "      <td>0</td>\n",
       "      <td>7.8292</td>\n",
       "      <td>test</td>\n",
       "      <td>NaN</td>\n",
       "      <td>2</td>\n",
       "    </tr>\n",
       "    <tr>\n",
       "      <th>1</th>\n",
       "      <td>893</td>\n",
       "      <td>3</td>\n",
       "      <td>Wilkes, Mrs. James (Ellen Needs)</td>\n",
       "      <td>2</td>\n",
       "      <td>47.0</td>\n",
       "      <td>1</td>\n",
       "      <td>0</td>\n",
       "      <td>7.0000</td>\n",
       "      <td>test</td>\n",
       "      <td>NaN</td>\n",
       "      <td>1</td>\n",
       "    </tr>\n",
       "    <tr>\n",
       "      <th>2</th>\n",
       "      <td>894</td>\n",
       "      <td>2</td>\n",
       "      <td>Myles, Mr. Thomas Francis</td>\n",
       "      <td>1</td>\n",
       "      <td>62.0</td>\n",
       "      <td>0</td>\n",
       "      <td>0</td>\n",
       "      <td>9.6875</td>\n",
       "      <td>test</td>\n",
       "      <td>NaN</td>\n",
       "      <td>2</td>\n",
       "    </tr>\n",
       "    <tr>\n",
       "      <th>3</th>\n",
       "      <td>895</td>\n",
       "      <td>3</td>\n",
       "      <td>Wirz, Mr. Albert</td>\n",
       "      <td>1</td>\n",
       "      <td>27.0</td>\n",
       "      <td>0</td>\n",
       "      <td>0</td>\n",
       "      <td>8.6625</td>\n",
       "      <td>test</td>\n",
       "      <td>NaN</td>\n",
       "      <td>2</td>\n",
       "    </tr>\n",
       "    <tr>\n",
       "      <th>4</th>\n",
       "      <td>896</td>\n",
       "      <td>3</td>\n",
       "      <td>Hirvonen, Mrs. Alexander (Helga E Lindqvist)</td>\n",
       "      <td>2</td>\n",
       "      <td>22.0</td>\n",
       "      <td>1</td>\n",
       "      <td>1</td>\n",
       "      <td>12.2875</td>\n",
       "      <td>test</td>\n",
       "      <td>NaN</td>\n",
       "      <td>1</td>\n",
       "    </tr>\n",
       "    <tr>\n",
       "      <th>5</th>\n",
       "      <td>897</td>\n",
       "      <td>3</td>\n",
       "      <td>Svensson, Mr. Johan Cervin</td>\n",
       "      <td>1</td>\n",
       "      <td>14.0</td>\n",
       "      <td>0</td>\n",
       "      <td>0</td>\n",
       "      <td>9.2250</td>\n",
       "      <td>test</td>\n",
       "      <td>NaN</td>\n",
       "      <td>2</td>\n",
       "    </tr>\n",
       "    <tr>\n",
       "      <th>6</th>\n",
       "      <td>898</td>\n",
       "      <td>3</td>\n",
       "      <td>Connolly, Miss. Kate</td>\n",
       "      <td>2</td>\n",
       "      <td>30.0</td>\n",
       "      <td>0</td>\n",
       "      <td>0</td>\n",
       "      <td>7.6292</td>\n",
       "      <td>test</td>\n",
       "      <td>NaN</td>\n",
       "      <td>1</td>\n",
       "    </tr>\n",
       "    <tr>\n",
       "      <th>7</th>\n",
       "      <td>899</td>\n",
       "      <td>2</td>\n",
       "      <td>Caldwell, Mr. Albert Francis</td>\n",
       "      <td>1</td>\n",
       "      <td>26.0</td>\n",
       "      <td>1</td>\n",
       "      <td>1</td>\n",
       "      <td>29.0000</td>\n",
       "      <td>test</td>\n",
       "      <td>NaN</td>\n",
       "      <td>2</td>\n",
       "    </tr>\n",
       "    <tr>\n",
       "      <th>8</th>\n",
       "      <td>900</td>\n",
       "      <td>3</td>\n",
       "      <td>Abrahim, Mrs. Joseph (Sophie Halaut Easu)</td>\n",
       "      <td>2</td>\n",
       "      <td>18.0</td>\n",
       "      <td>0</td>\n",
       "      <td>0</td>\n",
       "      <td>7.2292</td>\n",
       "      <td>test</td>\n",
       "      <td>NaN</td>\n",
       "      <td>1</td>\n",
       "    </tr>\n",
       "    <tr>\n",
       "      <th>9</th>\n",
       "      <td>901</td>\n",
       "      <td>3</td>\n",
       "      <td>Davies, Mr. John Samuel</td>\n",
       "      <td>1</td>\n",
       "      <td>21.0</td>\n",
       "      <td>2</td>\n",
       "      <td>0</td>\n",
       "      <td>24.1500</td>\n",
       "      <td>test</td>\n",
       "      <td>NaN</td>\n",
       "      <td>2</td>\n",
       "    </tr>\n",
       "  </tbody>\n",
       "</table>\n",
       "</div>"
      ],
      "text/plain": [
       "   PassengerId  Pclass                                          Name  Sex  \\\n",
       "0          892       3                              Kelly, Mr. James    1   \n",
       "1          893       3              Wilkes, Mrs. James (Ellen Needs)    2   \n",
       "2          894       2                     Myles, Mr. Thomas Francis    1   \n",
       "3          895       3                              Wirz, Mr. Albert    1   \n",
       "4          896       3  Hirvonen, Mrs. Alexander (Helga E Lindqvist)    2   \n",
       "5          897       3                    Svensson, Mr. Johan Cervin    1   \n",
       "6          898       3                          Connolly, Miss. Kate    2   \n",
       "7          899       2                  Caldwell, Mr. Albert Francis    1   \n",
       "8          900       3     Abrahim, Mrs. Joseph (Sophie Halaut Easu)    2   \n",
       "9          901       3                       Davies, Mr. John Samuel    1   \n",
       "\n",
       "    Age  SibSp  Parch     Fare   ind  Survived  Title  \n",
       "0  34.5      0      0   7.8292  test       NaN      2  \n",
       "1  47.0      1      0   7.0000  test       NaN      1  \n",
       "2  62.0      0      0   9.6875  test       NaN      2  \n",
       "3  27.0      0      0   8.6625  test       NaN      2  \n",
       "4  22.0      1      1  12.2875  test       NaN      1  \n",
       "5  14.0      0      0   9.2250  test       NaN      2  \n",
       "6  30.0      0      0   7.6292  test       NaN      1  \n",
       "7  26.0      1      1  29.0000  test       NaN      2  \n",
       "8  18.0      0      0   7.2292  test       NaN      1  \n",
       "9  21.0      2      0  24.1500  test       NaN      2  "
      ]
     },
     "execution_count": 764,
     "metadata": {},
     "output_type": "execute_result"
    }
   ],
   "source": [
    "combine.head(10)"
   ]
  },
  {
   "cell_type": "code",
   "execution_count": 765,
   "id": "aee2a9d3-9190-4337-9b32-59a7d897cfda",
   "metadata": {},
   "outputs": [
    {
     "data": {
      "text/plain": [
       "PassengerId      int64\n",
       "Pclass           int64\n",
       "Name            object\n",
       "Sex              int64\n",
       "Age            float64\n",
       "SibSp            int64\n",
       "Parch            int64\n",
       "Fare           float64\n",
       "Survived       float64\n",
       "Title            int64\n",
       "dtype: object"
      ]
     },
     "execution_count": 765,
     "metadata": {},
     "output_type": "execute_result"
    }
   ],
   "source": [
    "train.dtypes"
   ]
  },
  {
   "cell_type": "code",
   "execution_count": 766,
   "id": "0b2d74c4-bb4d-43ad-94e9-480cc1ddaecb",
   "metadata": {},
   "outputs": [
    {
     "data": {
      "text/plain": [
       "PassengerId      0\n",
       "Pclass           0\n",
       "Name             0\n",
       "Sex              0\n",
       "Age              0\n",
       "SibSp            0\n",
       "Parch            0\n",
       "Fare             0\n",
       "ind              0\n",
       "Survived       418\n",
       "Title            0\n",
       "dtype: int64"
      ]
     },
     "execution_count": 766,
     "metadata": {},
     "output_type": "execute_result"
    }
   ],
   "source": [
    "combine.isna().sum()"
   ]
  },
  {
   "cell_type": "code",
   "execution_count": 767,
   "id": "6edc4b8f-eb2e-4d51-b37d-9fc3479b2d15",
   "metadata": {},
   "outputs": [
    {
     "name": "stdout",
     "output_type": "stream",
     "text": [
      "[0 1 0 0 1 0 1 0 1 0 0 0 1 0 1 1 0 0 1 1 0 1 1 0 1 0 1 0 0 0 0 0 1 1 0 0 1\n",
      " 1 0 0 0 0 0 1 1 0 0 0 1 1 0 0 1 1 0 0 0 0 0 1 0 0 0 1 1 1 1 0 0 1 1 0 1 0\n",
      " 1 1 0 1 0 1 1 0 0 0 0 0 1 1 1 1 1 0 1 0 0 0 1 0 1 0 1 0 0 0 1 0 0 0 0 0 0\n",
      " 1 1 1 1 0 0 1 0 1 1 0 1 0 0 1 0 1 0 0 0 0 0 0 0 0 0 0 1 0 0 1 0 0 0 0 0 0\n",
      " 0 0 1 0 0 1 0 0 1 1 0 1 1 1 1 0 0 1 0 0 1 1 0 0 0 0 0 1 1 0 1 1 0 0 1 0 1\n",
      " 0 1 0 0 0 0 0 1 0 1 0 1 1 0 1 1 1 0 1 0 0 1 0 1 0 0 0 0 1 0 0 1 0 1 0 1 0\n",
      " 1 0 1 1 0 1 0 0 0 1 0 0 0 0 0 0 1 1 1 1 0 0 0 0 1 0 1 1 1 0 0 0 0 0 0 0 1\n",
      " 0 0 0 1 1 0 0 0 0 1 0 0 0 1 1 0 1 0 0 0 0 1 1 1 1 1 0 0 0 0 0 0 1 0 0 0 0\n",
      " 1 0 0 0 0 0 0 0 1 1 0 1 0 1 0 0 0 1 1 1 0 0 0 0 0 0 0 0 1 0 1 0 0 0 1 0 0\n",
      " 1 0 0 0 0 0 1 0 0 0 1 0 1 0 1 0 1 1 0 0 0 1 0 1 0 0 1 0 1 1 0 1 0 0 1 1 0\n",
      " 0 1 0 0 1 1 1 0 0 0 0 0 1 1 0 1 0 0 0 0 0 1 1 0 0 1 0 1 0 0 1 0 1 0 0 0 0\n",
      " 0 1 1 1 1 1 0 1 0 0 0]\n"
     ]
    }
   ],
   "source": [
    "column = [\"Survived\"]\n",
    "x_train = train.drop([\"PassengerId\", \"Survived\", \"Name\"], axis=1).select_dtypes(include=['number'])\n",
    "y_train = train[\"Survived\"]\n",
    "x_test = test.drop([\"PassengerId\",\"Survived\",\"Name\"],axis=1).select_dtypes(include=['number'])\n",
    "model = LinearRegression().fit(x_train, y_train)\n",
    "predict = model.predict(x_test)\n",
    "predictions = model.predict(x_test) \n",
    "rounded_predictions = predictions.round().astype(int)\n",
    "print(rounded_predictions)"
   ]
  },
  {
   "cell_type": "code",
   "execution_count": 768,
   "id": "8a7b2974-b9a5-491e-96da-33dba8db3a5e",
   "metadata": {},
   "outputs": [],
   "source": [
    "combine.loc[combine['Survived'].isna(), 'Survived'] = rounded_predictions"
   ]
  },
  {
   "cell_type": "markdown",
   "id": "d0d8f20d-dd76-46fe-9c6a-37cd22ee6f72",
   "metadata": {},
   "source": [
    "Now we are done:"
   ]
  },
  {
   "cell_type": "code",
   "execution_count": 769,
   "id": "9f91d5f5-5036-4647-a74c-06c4fbd10a95",
   "metadata": {},
   "outputs": [
    {
     "data": {
      "text/plain": [
       "PassengerId    0\n",
       "Pclass         0\n",
       "Name           0\n",
       "Sex            0\n",
       "Age            0\n",
       "SibSp          0\n",
       "Parch          0\n",
       "Fare           0\n",
       "ind            0\n",
       "Survived       0\n",
       "Title          0\n",
       "dtype: int64"
      ]
     },
     "execution_count": 769,
     "metadata": {},
     "output_type": "execute_result"
    }
   ],
   "source": [
    "combine.isnull().sum()"
   ]
  },
  {
   "cell_type": "code",
   "execution_count": 771,
   "id": "d00221c0-7fdb-4a65-9baf-bbd98ebb7266",
   "metadata": {},
   "outputs": [
    {
     "data": {
      "text/plain": [
       "(418,)"
      ]
     },
     "execution_count": 771,
     "metadata": {},
     "output_type": "execute_result"
    }
   ],
   "source": [
    "sub = pd.Series(rounded_predictions, index=test['PassengerId'],name='Survived')\n",
    "sub.shape"
   ]
  },
  {
   "cell_type": "code",
   "execution_count": 772,
   "id": "15af4ba5-eff2-47cb-8961-71463639d138",
   "metadata": {},
   "outputs": [],
   "source": [
    "sub.to_csv(\"LinearReg.csv\",header=True)"
   ]
  },
  {
   "cell_type": "code",
   "execution_count": null,
   "id": "bbe3eff6-7ab6-4b53-84a8-6423850a72ee",
   "metadata": {},
   "outputs": [],
   "source": []
  },
  {
   "cell_type": "code",
   "execution_count": null,
   "id": "aa2a1c58-4955-4bdb-adfb-4a5b0d5060f3",
   "metadata": {},
   "outputs": [],
   "source": []
  },
  {
   "cell_type": "code",
   "execution_count": null,
   "id": "8168d5de-ca08-4ab9-aee9-272932fb303e",
   "metadata": {},
   "outputs": [],
   "source": []
  },
  {
   "cell_type": "code",
   "execution_count": null,
   "id": "0948b816-0d6a-4436-9aba-0c0c4d313514",
   "metadata": {},
   "outputs": [],
   "source": []
  },
  {
   "cell_type": "code",
   "execution_count": null,
   "id": "ead3f12f-5d77-4dab-9e6f-17102272bebe",
   "metadata": {},
   "outputs": [],
   "source": []
  },
  {
   "cell_type": "code",
   "execution_count": null,
   "id": "02353ff2-8c4d-4d45-9e20-600a8d397fd6",
   "metadata": {},
   "outputs": [],
   "source": []
  },
  {
   "cell_type": "code",
   "execution_count": null,
   "id": "eeca2d93-151f-4536-b016-72727aa97c0c",
   "metadata": {},
   "outputs": [],
   "source": []
  },
  {
   "cell_type": "code",
   "execution_count": null,
   "id": "9cae48b9-cab6-4804-8734-1eb6f693489d",
   "metadata": {},
   "outputs": [],
   "source": []
  },
  {
   "cell_type": "code",
   "execution_count": null,
   "id": "97289827-363c-4544-b5b6-3d4ce41fdfb1",
   "metadata": {},
   "outputs": [],
   "source": []
  },
  {
   "cell_type": "code",
   "execution_count": null,
   "id": "550568be-fb52-40cb-a8fc-9a04e695a7ec",
   "metadata": {},
   "outputs": [],
   "source": []
  },
  {
   "cell_type": "code",
   "execution_count": null,
   "id": "c4b573b6-7c5c-444e-aaf7-38b92982563d",
   "metadata": {},
   "outputs": [],
   "source": []
  },
  {
   "cell_type": "code",
   "execution_count": null,
   "id": "743ac03c-78ed-4b5e-9ad5-028bece2e16e",
   "metadata": {},
   "outputs": [],
   "source": []
  },
  {
   "cell_type": "code",
   "execution_count": null,
   "id": "14ce242d-5ff6-4282-84ca-8954a5a30d03",
   "metadata": {},
   "outputs": [],
   "source": []
  },
  {
   "cell_type": "code",
   "execution_count": null,
   "id": "50c6b3d6-9b2e-4929-babe-36b70acdc447",
   "metadata": {},
   "outputs": [],
   "source": []
  },
  {
   "cell_type": "code",
   "execution_count": null,
   "id": "4dc8c198-a6b7-4ff6-94f2-0b78f5d5772d",
   "metadata": {},
   "outputs": [],
   "source": []
  },
  {
   "cell_type": "code",
   "execution_count": null,
   "id": "0ede51d1-5aa9-45a0-bf0d-fe65b78f8ed8",
   "metadata": {},
   "outputs": [],
   "source": []
  },
  {
   "cell_type": "code",
   "execution_count": null,
   "id": "ecbc66fa-b276-4aaf-9c8c-00c4d3dc11d7",
   "metadata": {},
   "outputs": [],
   "source": []
  },
  {
   "cell_type": "code",
   "execution_count": null,
   "id": "39ef4090-1cc0-4b51-abab-e7d815c67d2e",
   "metadata": {},
   "outputs": [],
   "source": []
  },
  {
   "cell_type": "code",
   "execution_count": null,
   "id": "1a9da732-2f6c-4303-be18-e816c2dd20fb",
   "metadata": {},
   "outputs": [],
   "source": []
  },
  {
   "cell_type": "code",
   "execution_count": null,
   "id": "eddd886b-4bba-448c-9cbf-6530bc70c2e0",
   "metadata": {},
   "outputs": [],
   "source": []
  },
  {
   "cell_type": "code",
   "execution_count": null,
   "id": "525f46d0-de9a-4d5a-8763-0ead1ce88e5f",
   "metadata": {},
   "outputs": [],
   "source": []
  },
  {
   "cell_type": "code",
   "execution_count": null,
   "id": "550e02e7-e61d-49f2-a56d-70d99136334c",
   "metadata": {},
   "outputs": [],
   "source": []
  }
 ],
 "metadata": {
  "kernelspec": {
   "display_name": "Python (myenv)",
   "language": "python",
   "name": "myenv"
  },
  "language_info": {
   "codemirror_mode": {
    "name": "ipython",
    "version": 3
   },
   "file_extension": ".py",
   "mimetype": "text/x-python",
   "name": "python",
   "nbconvert_exporter": "python",
   "pygments_lexer": "ipython3",
   "version": "3.12.3"
  }
 },
 "nbformat": 4,
 "nbformat_minor": 5
}
